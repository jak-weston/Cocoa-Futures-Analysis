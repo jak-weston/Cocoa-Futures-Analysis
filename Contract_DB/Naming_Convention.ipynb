{
 "cells": [
  {
   "cell_type": "markdown",
   "id": "334bc72c-781c-4cbe-93ee-2069e8e3e24b",
   "metadata": {},
   "source": [
    "# Naming Convention"
   ]
  },
  {
   "cell_type": "markdown",
   "id": "0a55bdee-4d7c-45bb-8de6-dfda936f05cf",
   "metadata": {},
   "source": [
    "### All Contract Subsets will have the following naming convention"
   ]
  },
  {
   "cell_type": "markdown",
   "id": "2beb1b66-89fa-424c-89ee-e7bb216f94fc",
   "metadata": {},
   "source": [
    "'C\\#\\_\\<STARTMONTH\\>\\_\\<ENDMONTH\\>.csv'"
   ]
  },
  {
   "cell_type": "code",
   "execution_count": null,
   "id": "acbe7392-4dda-410c-98b7-341bdfc79d00",
   "metadata": {},
   "outputs": [],
   "source": []
  }
 ],
 "metadata": {
  "kernelspec": {
   "display_name": "Python 3 (ipykernel)",
   "language": "python",
   "name": "python3"
  },
  "language_info": {
   "codemirror_mode": {
    "name": "ipython",
    "version": 3
   },
   "file_extension": ".py",
   "mimetype": "text/x-python",
   "name": "python",
   "nbconvert_exporter": "python",
   "pygments_lexer": "ipython3",
   "version": "3.11.9"
  }
 },
 "nbformat": 4,
 "nbformat_minor": 5
}
