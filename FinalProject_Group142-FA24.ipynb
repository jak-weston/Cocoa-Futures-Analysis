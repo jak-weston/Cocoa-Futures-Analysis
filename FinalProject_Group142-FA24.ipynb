{
 "cells": [
  {
   "cell_type": "markdown",
   "metadata": {},
   "source": [
    "# COGS 108 - Final Project (change this to your project's title)\n",
    "\n",
    "# Permissions\n",
    "\n",
    "Place an `X` in the appropriate bracket below to specify if you would like your group's project to be made available to the public. (Note that student names will be included (but PIDs will be scraped from any groups who include their PIDs).\n",
    "\n",
    "- [X] YES - make available\n",
    "- [ ] NO - keep private\n",
    "\n",
    "# Names\n",
    "- Jack Weston\n",
    "- Spandan Das\n",
    "- Seema Rida\n",
    "- Louis Alejandro Soumah\n",
    "\n",
    "# Abstract\n",
    "\n",
    "We looked at the causes and relationships between various agroclimatological factors and volatility in cocoa futures prices, focusing on the specific metrics of the COCO Wisdom Tree and CCc1 spread. Observing the high volatility of cocoa futures prices, we aimed to investigate the role of environmental factors in driving these fluctuations. Our goal was to identify patterns and ways to aid stakeholders across the cocoa supply chain in understanding and predicting future volatility.\n",
    "Our analysis involved gathering agroclimatological data from the NASA POWER DAV tool, combined with past cocoa futures data. We divided the climate data into geographic regions (stations) to pinpoint localized weather patterns and concurrently divided the cocoa futures into separate time periods to observe how prices changed over time. We conducted a series of analysis in order to identify these trends and later presented our findings in a clear and intuitive way.\n",
    "Our findings were able to show a strong positive correlation between temperature and cocoa prices which tells us that higher temperatures may lead to an increase in price volatility. Similarly, we were also able to observe a strong negative correlation between soil moisture and market prices; poor growing conditions were linked to higher prices due to supply constraints. Moreover, we concluded that early contracts are more sensitive to climatic variations, while later contracts show market stabilization as long-term supply expectations are priced in. Overall, we concluded that temperature and soil moisture are critical predictors of cocoa market volatility."
   ]
  },
  {
   "cell_type": "markdown",
   "metadata": {},
   "source": [
    "# Research Question"
   ]
  },
  {
   "cell_type": "markdown",
   "metadata": {},
   "source": [
    "To what extent can agroclimatological features, as measured by the Regional NASA POWER DAV (Prediction of Worldwide Energy Resource) Tool, predict future volatility in cocoa futures and market prices, with a focus on the COCO Wisdom Tree and CCc1 spread, using historical data from March 1st 2024 to October 15th 2024.\n",
    "\n",
    "Note: While examining the COCO Wisdom Tree and CCc1 spread is an interesting approach, it might limit the generalizability of the findings. We intend to expand this analysis by including a wider range of cocoa futures contracts and market indices to assess the generalizability of the results. However, due to losing access to the Refinitive token, we are currently unable to include additional market indices and futures contracts. We plan to incorporate these variables in the future once access is restored."
   ]
  },
  {
   "cell_type": "markdown",
   "metadata": {},
   "source": [
    "## Background and Prior Work"
   ]
  },
  {
   "cell_type": "markdown",
   "metadata": {},
   "source": [
    "Cocoa grows in the pods of the Theobroma cacao tree with a name that roughly translates to “God food” in Greek. Since the Aztecs and Mayans, Cocoa had long been used as a form of consumable currency.<a name=\"cite_ref-1\"></a>[<sup>[1]</sup>](https://chocolateclass.wordpress.com/2020/03/24/cacao-currency-ancient-civilizations-used-chocolate-as-cash/#:~:text=Although%20people%20mostly%20bartered%20goods,Aztecs%2C%20valued%20cacao%20as%20money\n",
    ") This commodity has become a highly prized export in the modern world. We use Cocoa not only to make desserts and a large variety of drinks, but it is also used for a number of skin products such as lotions, creams, and lip balms which is why it is traded so abundantly.<a name=\"cite_ref-2\"></a>[<sup>[2]</sup>](https://www.markets.com/education-centre/cocoa-trading/)\n",
    "\n",
    "Cocoa futures are similar to stocks and bonds, in the sense that they allow traders to buy and sell cocoa at predetermined prices on a specified future date. When trading, a future contract represents 10 metric tons of cocoa thus can be sold either partially. Cocoa is traded on the New York Mercantile Exchange (NYMEX) and the Intercontinental Exchange (ICE) in London. The South Asian market and London prices are based on cocoa produced in African regions, particularly Ghana and the Ivory Coast—two of the world’s largest sources of cocoa production. Cocoa is one of the smallest soft commodity markets, but regardless it still has a major influence on the futures market.<a name=\"cite_ref-3\"></a>[<sup>[3]</sup>](https://tradingeconomics.com/commodity/cocoa#:~:text=12%20of%202024.-,Cocoa%20increased%203%2C560.48%20USD/MT%20or%2084.85%25%20since%20the%20beginning,9639.41%20in%2012%20months%20time.&text=Cocoa%20is%20traded%20on%20New,difference%20(CFD)%20financial%20instruments)\n",
    "\n",
    "The COCO Wisdom Tree and CCc1 spread are key indicators in the cocoa futures market. The COCO Wisdom Tree is an exchange-traded product that tracks cocoa futures prices, providing investors with a way to gain exposure to the cocoa market without directly trading futures. The CCc1 spread represents the difference between two different cocoa futures contracts, typically from different delivery months. This spread can widen or narrow based on market expectations of supply and demand, reflecting shifts caused by weather patterns, geopolitical factors, or speculative trading. By analyzing these spreads, traders gain insights into short-term price volatility and market sentiment.\n",
    "\n",
    "Cocoa futures provide crucial financial instruments for both producers and buyers. Farmers use futures contracts to hedge against potential price drops, securing stable income despite volatile market conditions. Similarly, manufacturers such as Hershey and Mondelez use futures contracts to protect against rising cocoa costs, ensuring they can stabilize their production costs. High volatility in cocoa futures, driven by agroclimatic events like ENSO, forces these actors to adjust their strategies accordingly, sometimes leading to sudden changes in pricing for consumers.\n",
    "\n",
    "In the last year, the highest recorded price of cocoa futures was \\\\$12,261.2 (April 19th 2024) per metric ton which was about a 76 percent increase from (April 19th 2023) at \\\\$2,979.00. This was due to a low crop yield in the Ivory coast and Ghana in 2023 due to low rainfall, plant disease and the short lifespan of the cacao tree. Since the Ivory coast accounts for more than 60% of the world's cocoa production, thus the shortage was met with a wave of financial speculation leading not only the future prices of coca to spike, but also big name brands such as Hershey and Mondelez, the company that produces Cadbury and Toblorne to increase their prices about 5 and 6 percent respectively.<a name=\"cite_ref-4\"></a>[<sup>[4]</sup>](https://chocolateclass.wordpress.com/2020/03/24/cacao-currency-ancient-civilizations-used-chocolate-as-cash/#:~:text=Although%20people%20mostly%20bartered%20goods,Aztecs%2C%20valued%20cacao%20as%20money)\n",
    "\n",
    "Agroclimatological factors like temperature, water availability, soil fertility, and humidity are critical to the health and productivity of cocoa trees. Extreme deviations from the optimal growing conditions—such as those brought on by ENSO—can exacerbate supply disruptions, leading to significant fluctuations in the futures market. Investors and traders monitor these environmental indicators closely, as a poor growing season can prompt speculative trading, increasing market volatility. Conversely, favorable weather conditions can lead to market corrections and oversupply, which may depress prices.\n",
    "\n",
    "In addition to the weather-related factors, another significant change in the cocoa market has been the increasing conversion of cocoa plantations to palm oil production in some regions, particularly in Southeast Asia. Palm oil is often seen as a more profitable crop due to its high demand and versatile uses, leading many farmers to switch away from cocoa. This shift has contributed to the recent reduction in cocoa supply, further driving up prices in an already volatile market. Combined with weather disruptions like El Niño, these supply-side constraints have amplified market volatility.\n",
    "\n",
    "This study will use historical data from March 1st 2024 to October 15th 2024, focusing on major ENSO events and their corresponding impacts on cocoa production, futures prices, and market volatility. By incorporating data from the Regional NASA POWER DAV Tool, we aim to quantify how accurately these agroclimatic features can predict daily fluctuations in the COCO Wisdom Tree and CCc1 spread."
   ]
  },
  {
   "cell_type": "markdown",
   "metadata": {},
   "source": [
    "# References\n",
    "1. \"Cacao Currency: Ancient Civilizations Used Chocolate as Cash.\" *Chocolate Class*, 24 Mar. 2020, [https://chocolateclass.wordpress.com/2020/03/24/cacao-currency-ancient-civilizations-used-chocolate-as-cash/](https://chocolateclass.wordpress.com/2020/03/24/cacao-currency-ancient-civilizations-used-chocolate-as-cash/).\n",
    "\n",
    "2. *Cocoa Trading.* Markets.com, [https://www.markets.com/education-centre/cocoa-trading/](https://www.markets.com/education-centre/cocoa-trading/).\n",
    "\n",
    "3. *Cocoa.* *Trading Economics*, [https://tradingeconomics.com/commodity/cocoa](https://tradingeconomics.com/commodity/cocoa).\n",
    "\n",
    "4. \"Cacao Currency: Ancient Civilizations Used Chocolate as Cash.\" *Chocolate Class*, 24 Mar. 2020, [https://chocolateclass.wordpress.com/2020/03/24/cacao-currency-ancient-civilizations-used-chocolate-as-cash/](https://chocolateclass.wordpress.com/2020/03/24/cacao-currency-ancient-civilizations-used-chocolate-as-cash/). "
   ]
  },
  {
   "cell_type": "markdown",
   "metadata": {},
   "source": [
    "# Hypothesis\n"
   ]
  },
  {
   "cell_type": "markdown",
   "metadata": {},
   "source": [
    "We predict that agroclimatological features , particularly rainfall and temperature anomalies, will significantly correlate with daily volatility in cocoa futures, as reflected in the COCO Wisdom Tree and CCc1 spread. Given ENSO's established impact on global weather patterns and cocoa crop yields, we hypothesize that El Niño phases (with wetter, warmer conditions) will drive higher volatility in cocoa futures compared to La Niña phases (with drier, cooler conditions)."
   ]
  },
  {
   "cell_type": "markdown",
   "metadata": {},
   "source": [
    "# Data"
   ]
  },
  {
   "cell_type": "markdown",
   "metadata": {},
   "source": [
    "## Data overview\n",
    "- Dataset #1\n",
    "  - Dataset Name: NASA Power Dav Tool Data\n",
    "  - Source: [NASA's Power DAV Tool](https://power.larc.nasa.gov/)\n",
    "  - Number of Observations: 46,848\n",
    "  - Number of Variables: 12\n",
    "- Dataset #2\n",
    "  - Dataset Name: Historic Daily Close Prices for Cocoa Futures\n",
    "  - Source: Data manually extracted from Refinitiv database\n",
    "  - Number of Observations: 1202\n",
    "  - Number of Variables: 6"
   ]
  },
  {
   "cell_type": "markdown",
   "metadata": {},
   "source": [
    "### Feature Overview\n",
    "\n",
    "#### NASA Agroclimatological Data\n",
    "| **Variable**                  | **Description**                                                                 | **Type**        | **Time Frequency** | **Usage in Research**                                                                                                                                                      |\n",
    "|-------------------------------|---------------------------------------------------------------------------------|-----------------|--------------------|----------------------------------------------------------------------------------------------------------------------------------------------------------------------------|\n",
    "| **DATE**                      | Daily records from March 1st, 2024, to October 15th, 2024                        | DateTime        | Daily              | Used to correlate daily weather patterns with cocoa futures price movements to establish time-based relationships between weather and market volatility.                     |\n",
    "| **Station_ID**                | The Geographical location at which the data is from based on Lon & Lat           | Categorical     | Daily              | Helps identify regional patterns that may influence cocoa price volatility based on geographical weather and market conditions, focusing on key cocoa-producing regions.      |\n",
    "| **LAT**                       | The latitude at which the data is from                                           | Categorical     | Daily              | Provides context for climate-related patterns that may impact specific cocoa-growing regions, aiding in regional forecasting of price volatility.                           |\n",
    "| **LON**                       | The longitude at which the data is from                                          | Categorical     | Daily              | Similar to **LAT**, used to identify geographical influences on climate and, indirectly, market price changes, by linking them to specific cocoa-growing locations.           |\n",
    "| **Soil_Moisture**             | Daily soil moisture levels in cocoa-growing regions                              | Numeric (%)     | Daily              | Used to assess soil health, which can influence cocoa production. Soil moisture changes can predict yield changes, directly impacting cocoa price volatility and market trends. |\n",
    "| **Temp_Avg**                  | Daily average temperatures in key regions                                        | Numeric (°C)    | Daily              | Temperature trends can signal shifts in climate conditions that may affect cocoa harvests, which in turn affect cocoa futures prices.                                        |\n",
    "| **Temp_Max**                  | Daily maximum temperature in key regions                                         | Numeric (°C)    | Daily              | High temperature extremes can signal potential climate stress on cocoa production, correlating to sudden spikes or drops in cocoa market prices.                           |\n",
    "| **Temp_Min**                  | Daily minimum temperature in key regions                                         | Numeric (°C)    | Daily              | Used to track temperature fluctuations, which may influence cocoa yields and lead to volatility in market prices if the region experiences significant temperature shifts.    |\n",
    "| **Earth_Skin_Temp**           | The temperature of the Earth's surface 10m below ground level                    | Numeric (°C)    | Daily              | Ground-level temperatures impact soil conditions and crop growth, which are essential to understanding the relationship between climate and cocoa market behavior.           |\n",
    "| **Rel_Humidity**              | Daily humidity levels in cocoa-growing regions 2m above ground level             | Numeric (%)     | Daily              | Humidity levels affect the growth and quality of cocoa crops, with high or low humidity levels potentially affecting yields and thereby impacting cocoa price volatility.    |\n",
    "| **Root_Soil_Wetness**         | Daily soil moisture levels in cocoa-growing regions 10m below ground level       | Numeric (%)     | Daily              | Deeper soil moisture levels are key indicators of soil health, which in turn affects cocoa yield and price volatility as they reflect the longer-term climate trends.         |\n",
    "| **Precip_Corrected**          | Daily precipitation levels in key cocoa-producing regions (Ivory Coast)          | Numeric (mm)    | Daily              | Precipitation data is directly linked to crop growth and health, providing key information to predict potential disruptions in cocoa production and related price volatility. |\n",
    "\n",
    "\n",
    "#### Historic Daily Cocoa Futures Data\n",
    "| **Variable**                  | **Description**                                                                 | **Type**        | **Time Frequency** | **Usage in Research**                                                                                                                                                 |\n",
    "|-------------------------------|---------------------------------------------------------------------------------|-----------------|--------------------|-----------------------------------------------------------------------------------------------------------------------------------------------------------------------|\n",
    "| **DATE**                      | Daily records from March 1st, 2024, to October 15th, 2024                        | DateTime        | Daily              | Used to match historical cocoa futures price data with agroclimatological data to analyze the relationship between climate conditions and market volatility.           |\n",
    "| **HIGH**                      | Daily max price of cocoa futures contracts                                       | Numeric (USD)   | Daily              | Analyzed to identify price peaks that could correlate with extreme weather events, helping to assess how temperature and precipitation volatility affect cocoa prices.   |\n",
    "| **LOW**                       | Daily min price of cocoa futures contracts                                       | Numeric (USD)   | Daily              | Used alongside **HIGH** to evaluate daily price fluctuations and volatility, allowing for comparisons with climate stress factors.                                      |\n",
    "| **OPEN**                      | Daily opening price of cocoa futures contracts                                   | Numeric (USD)   | Daily              | Opening price data provides insight into market reactions to overnight weather data, with potential links to sudden climate-related price adjustments.                 |\n",
    "| **CLOSE**                     | Daily closing price of cocoa futures contracts                                   | Numeric (USD)   | Daily              | Key for tracking daily market behavior, comparing how daily weather conditions (temperature, humidity, soil moisture) correlate with closing market prices.            |\n",
    "| **VOLUME**                    | Daily volume of cocoa futures traded                                             | Numeric         | Daily              | Analyzed to assess market sentiment in relation to weather data, identifying trends in trading activity that could correlate with anticipated climate impacts on cocoa. |"
   ]
  },
  {
   "cell_type": "markdown",
   "metadata": {},
   "source": [
    "### NASA Power Dav Tool Data\n",
    "This dataset includes daily agroclimatological measurements from March 1, 2023, to June 30, 2024, across various locations specified by latitude and longitude. Key variables include:\n",
    "\n",
    "- Temperature at 2 meters (T2M, T2M_MAX, T2M_MIN) and soil temperature (TS) capture atmospheric and ground-level temperature trends.\n",
    "- Relative humidity (RH2M), ground wetness profile (GWETPROF), root zone wetness (GWETROOT), and corrected total precipitation (PRECTOTCORR) act as indicators of moisture and precipitation levels. These metrics serve as proxies for climate conditions affecting agriculture in cote d'ivoire.\n",
    "\n",
    "### Historic Daily Cocoa Futures Data\n",
    "The Cocoa Futures dataset provides daily trading data for cocoa futures, extending up to 12 months forward, covering variables such as:\n",
    "\n",
    "- High, low, opening, and closing prices (HIGH, LOW, OPEN, CLOSE) to track price fluctuations.\n",
    "- Volume of trades (VOLUME) to reflect market activity and liquidity.\n",
    "\n",
    "### Integration Plan\n",
    "To integrate these datasets, we plan to align them by date to examine any correlations between agroclimatological conditions (e.g., temperature or rainfall) and cocoa market prices. This may involve merging the datasets on the date variable, performing time series analysis or regression if relationships are evident. This would assess the impact of weather conditions on cocoa price trends."
   ]
  },
  {
   "cell_type": "markdown",
   "metadata": {},
   "source": [
    "## NASA Power Dav Tool Data"
   ]
  },
  {
   "cell_type": "markdown",
   "metadata": {},
   "source": [
    "### Import Required Packages"
   ]
  },
  {
   "cell_type": "code",
   "execution_count": null,
   "metadata": {},
   "outputs": [],
   "source": [
    "import pandas as pd\n",
    "import numpy as np\n",
    "import matplotlib.pyplot as plt\n",
    "import seaborn as sns\n",
    "import os"
   ]
  },
  {
   "cell_type": "code",
   "execution_count": null,
   "metadata": {},
   "outputs": [],
   "source": [
    "df = pd.read_csv('Raw_DB/NASA_Agroclimatological_Data.csv', on_bad_lines='skip')\n",
    "df.head()"
   ]
  },
  {
   "cell_type": "code",
   "execution_count": null,
   "metadata": {},
   "outputs": [],
   "source": [
    "# Change YEAR & DOY into DateTime format\n",
    "df['DATE'] = pd.to_datetime(df['YEAR'].astype(str) + df['DOY'].astype(str), format='%Y%j')\n",
    "\n",
    "# Reorder the columns to make DATE the first column and drop YEAR and DOY\n",
    "df = df[['DATE'] + [col for col in df.columns if col not in ['YEAR', 'DOY', 'DATE']]]\n",
    "\n",
    "# Rename cols\n",
    "df.rename(columns={\n",
    "    'TS': 'Earth_Skin_Temp',\n",
    "    'RH2M': 'Rel_Humidity',\n",
    "    'GWETROOT': 'Root_Soil_Wetness',\n",
    "    'PRECTOTCORR': 'Precip_Corrected',\n",
    "    'T2M_MIN': 'Temp_Min',\n",
    "    'T2M_MAX': 'Temp_Max',\n",
    "    'T2M': 'Temp_Avg',\n",
    "    'GWETPROF': 'Soil_Moisture'\n",
    "}, inplace=True)\n",
    "\n",
    "print(df.shape)\n",
    "df.head()"
   ]
  },
  {
   "cell_type": "code",
   "execution_count": null,
   "metadata": {},
   "outputs": [],
   "source": [
    "# Drop rows where any cell has a value of -999\n",
    "# -999 indicates NULL for that cell, as per NASA Power DAV Tool\n",
    "df = df[(df != -999).all(axis=1)]\n",
    "\n",
    "print(df.shape)\n",
    "df.head()"
   ]
  },
  {
   "cell_type": "code",
   "execution_count": null,
   "metadata": {},
   "outputs": [],
   "source": [
    "# Create a new df where we assign stations to each LAT, LON\n",
    "station_df = df.copy()\n",
    "station_df['Station_ID'] = station_df.groupby(['LAT', 'LON']).ngroup()\n",
    "column_order = ['Station_ID'] + [col for col in station_df.columns if col != 'Station_ID']\n",
    "station_df = station_df[column_order]\n",
    "\n",
    "station_df"
   ]
  },
  {
   "cell_type": "markdown",
   "metadata": {},
   "source": [
    "### Slicing & Exporting df by Station ID"
   ]
  },
  {
   "cell_type": "code",
   "execution_count": null,
   "metadata": {},
   "outputs": [],
   "source": [
    "# Initialize a counter for the number of CSV files created\n",
    "csv_count = 0\n",
    "\n",
    "# Create the folder if it doesn't exist\n",
    "output_folder = 'NASA_DB'\n",
    "os.makedirs(output_folder, exist_ok=True)\n",
    "\n",
    "# Assuming `df` is your DataFrame with a column named 'Station_ID'\n",
    "for station_id, group in station_df.groupby('Station_ID'):\n",
    "    # Define the filename based on the Station_ID and folder\n",
    "    filename = os.path.join(output_folder, f'Station_{station_id}.csv')\n",
    "    \n",
    "    # Save the group as a CSV file\n",
    "    group.to_csv(filename, index=False)\n",
    "    \n",
    "    # Increment the counter\n",
    "    csv_count += 1\n",
    "\n",
    "# Print the total number of CSV files created\n",
    "print(f\"Total CSV files created: {csv_count}\")"
   ]
  },
  {
   "cell_type": "markdown",
   "metadata": {},
   "source": [
    "### Verify Station_ID CSVs' Shape"
   ]
  },
  {
   "cell_type": "code",
   "execution_count": null,
   "metadata": {},
   "outputs": [],
   "source": [
    "# Initialize a counter for the number of CSV files created\n",
    "csv_count = 0\n",
    "mismatch_count = 0\n",
    "\n",
    "# Get the directory where the notebook is located\n",
    "notebook_dir = os.getcwd()  # Gets the current working directory of the notebook\n",
    "\n",
    "# Define the subdirectory for saving CSV files\n",
    "subdirectory = os.path.join(notebook_dir, \"NASA_DB\")\n",
    "\n",
    "# Create the subdirectory if it doesn't exist\n",
    "os.makedirs(subdirectory, exist_ok=True)\n",
    "\n",
    "# Assuming `df` is your DataFrame with a column named 'Station_ID'\n",
    "for station_id, group in station_df.groupby('Station_ID'):\n",
    "    # Define the filename based on the Station_ID and save it in the subdirectory\n",
    "    filename = os.path.join(subdirectory, f'Station_{station_id}.csv')\n",
    "    \n",
    "    # Save the group as a CSV file\n",
    "    group.to_csv(filename, index=False)\n",
    "    \n",
    "    # Increment the counter\n",
    "    csv_count += 1\n",
    "    \n",
    "    # Read back the CSV file to verify its shape\n",
    "    saved_df = pd.read_csv(filename)\n",
    "    \n",
    "    # Check if the shape matches\n",
    "    if saved_df.shape != group.shape:\n",
    "        print(f\"Shape mismatch for {filename}: Original {group.shape}, Saved {saved_df.shape}\")\n",
    "        mismatch_count += 1\n",
    "\n",
    "# Print the total number of CSV files created and any mismatches found\n",
    "print(f\"Total CSV files created: {csv_count}\")\n",
    "if mismatch_count == 0:\n",
    "    print(\"All CSV files have the same shape.\")\n",
    "else:\n",
    "    print(f\"{mismatch_count} CSV files have shape mismatches.\")\n"
   ]
  },
  {
   "cell_type": "markdown",
   "metadata": {},
   "source": [
    "## Historic Daily Close Prices for Cocoa Futures"
   ]
  },
  {
   "cell_type": "markdown",
   "metadata": {},
   "source": [
    "### Import required packages"
   ]
  },
  {
   "cell_type": "code",
   "execution_count": null,
   "metadata": {},
   "outputs": [],
   "source": [
    "import pandas as pd\n",
    "# note 'pip install refinitiv-data' to sucessfully run this cell\n",
    "import refinitiv.data as rd\n",
    "import plotly.graph_objects as go\n",
    "from plotly.subplots import make_subplots\n",
    "import plotly.express as px\n",
    "import warnings\n",
    "import datetime as dt\n",
    "# note 'pip install eikon' to sucessfully run this cell\n",
    "import eikon as ek\n",
    "import os\n",
    "warnings.filterwarnings(\"ignore\")\n",
    "# api_key = \"We are not comfortable publishing the API key\"\n",
    "#rd.open_session(client_id=api_key)\n",
    "# ek.set_app_key(api_key)\n",
    "# rd.open_session()"
   ]
  },
  {
   "cell_type": "markdown",
   "metadata": {},
   "source": [
    "### Data Collection with Refinitive API \n",
    "NOTE! This cell block below will not execute as we are not comfortable publishing the API key. We have included the cell to only demonstrate how we collected our data using Refinitiv's API."
   ]
  },
  {
   "cell_type": "raw",
   "metadata": {},
   "source": [
    "# Function to generate the ric list\n",
    "def gen_contracts(baseString):\n",
    "    contracts = []\n",
    "    for i in range(1, 37):\n",
    "        contracts.append(baseString+'c'+str(i))\n",
    "    return contracts\n",
    "    \n",
    "# Function to retrieve the data\n",
    "def get_contracts_data(baseCon, start_date, end_date):\n",
    "    contracts = gen_contracts(baseCon)\n",
    "    print(contracts)\n",
    "    df = rd.get_history(contracts, fields=[\n",
    "                        \"MID_PRICE\"], start=start_date, end=end_date, interval='daily', count=10000)\n",
    "    return df\n",
    "\n",
    "# Function for anlyzing spread\n",
    "def spread_analysis(df, c1, c2):\n",
    "    df = df.reset_index().ffill()\n",
    "    df['spread'] = df[c1] - df[c2]\n",
    "    df['Z_score_spread'] = (df.spread - df.spread.mean())/df.spread.std(ddof=0)\n",
    "\n",
    "    fig = px.line(df, x='Date', y='Z_score_spread',\n",
    "                  title='Normalized Spread b/w two contracts')\n",
    "    fig.add_shape(type='line',\n",
    "                  x0=df['Date'].iloc[0],\n",
    "                  y0=-3,\n",
    "                  x1=df['Date'].iloc[-1],\n",
    "                  y1=-3,\n",
    "                  line=dict(color='Red',),\n",
    "                  xref='x',\n",
    "                  yref='y'\n",
    "                  )\n",
    "    fig.add_shape(type='line',\n",
    "                  x0=df['Date'].iloc[0],\n",
    "                  y0=3,\n",
    "                  x1=df['Date'].iloc[-1],\n",
    "                  y1=3,\n",
    "                  line=dict(color='Red',),\n",
    "                  xref='x',\n",
    "                  yref='y'\n",
    "\n",
    "                  )\n",
    "    fig.show()\n",
    "\n",
    "dp = DatetimePicker(\n",
    "    range_mode=True,\n",
    "    duplex_mode='split',\n",
    "    weekdays_only=True,\n",
    "    value=[\"2022-01-01\", \"2022-09-09\"])\n",
    "\n",
    "rd.open_session()\n",
    "df = get_contracts_data(baseCon.value, dp.value[0], dp.value[1])\n",
    "fileName = baseCon.value + '.csv'\n",
    "df.to_csv(Path.home() / fileName)\n",
    "rd.close_session()\n",
    "df.head()"
   ]
  },
  {
   "cell_type": "markdown",
   "metadata": {},
   "source": [
    "### Exporting Refinitiv Data \n",
    "Since the API key is not published and the above cell block will not run for submission purposes we have made a copy of the Refinitiv Data and saved it in the Contract_DB directory and called it df_cc1.csv."
   ]
  },
  {
   "cell_type": "code",
   "execution_count": null,
   "metadata": {},
   "outputs": [],
   "source": [
    "df_cc1 = pd.read_csv(\"Contract_DB/df_cc1.csv\")\n",
    "print(df_cc1.shape)\n",
    "df_cc1.head()"
   ]
  },
  {
   "cell_type": "code",
   "execution_count": null,
   "metadata": {},
   "outputs": [],
   "source": [
    "# Convert the Date col into datetime format \n",
    "df_cc1['Date'] = pd.to_datetime(df_cc1['Date'])\n",
    "df_cc1.rename(columns={'Date': 'DATE'}, inplace=True)\n",
    "df_cc1"
   ]
  },
  {
   "cell_type": "markdown",
   "metadata": {},
   "source": [
    "### Slicing & Exporting df by Contract Seperation\n",
    "We want to slice the data based on the different Cocoa contracts."
   ]
  },
  {
   "cell_type": "code",
   "execution_count": null,
   "metadata": {},
   "outputs": [],
   "source": [
    "# Ensure the date column is in datetime format\n",
    "df_cc1['DATE'] = pd.to_datetime(df_cc1['DATE'])\n",
    "\n",
    "new_separation_ranges = {\n",
    "    \"Separation 1\": (\"2023-06-01\", \"2024-03-01\"),\n",
    "    \"Separation 2\": (\"2023-08-01\", \"2024-05-01\"),\n",
    "    \"Separation 3\": (\"2023-10-01\", \"2024-07-01\"),\n",
    "    \"Separation 4\": (\"2023-12-01\", \"2024-09-01\"),\n",
    "    \"Separation 5\": (\"2024-02-01\", \"2024-12-01\")\n",
    "}\n",
    "\n",
    "# Directory to store the CSV files\n",
    "output_dir = \"Contract_DB\"\n",
    "os.makedirs(output_dir, exist_ok=True)  # Create the directory if it doesn't exist\n",
    "\n",
    "# Iterate over each range, filter the DataFrame, add Index column, reset it, and save as CSV\n",
    "for idx, (key, (start_date, end_date)) in enumerate(new_separation_ranges.items(), start=1):\n",
    "    # Filter the DataFrame for the current range\n",
    "    filtered_df = df_cc1[(df_cc1['DATE'] >= start_date) & (df_cc1['DATE'] <= end_date)]\n",
    "    \n",
    "    # Save the filtered DataFrame as a CSV file in the Contract_DB directory\n",
    "    filename = os.path.join(output_dir, f\"Separation_{idx}.csv\")\n",
    "    filtered_df.to_csv(filename, index=False)\n",
    "    print(f\"Saved: {filename}\")"
   ]
  },
  {
   "cell_type": "markdown",
   "metadata": {},
   "source": [
    "# Merged Weather and Futures Dataset"
   ]
  },
  {
   "cell_type": "code",
   "execution_count": null,
   "metadata": {},
   "outputs": [],
   "source": [
    "# Paths to folders\n",
    "nasa_db_folder = 'NASA_DB'\n",
    "contract_db_folder = 'Contract_DB'\n",
    "merged_db_folder = 'Merged_DB'\n",
    "\n",
    "# Ensure the output folder exists\n",
    "os.makedirs(merged_db_folder, exist_ok=True)\n",
    "\n",
    "# Load all station files (1 to 90) from NASA_DB\n",
    "station_files = [\n",
    "    os.path.join(nasa_db_folder, file)\n",
    "    for file in os.listdir(nasa_db_folder)\n",
    "    if file.startswith('Station_') and file.endswith('.csv')\n",
    "    and 0 <= int(file.split('_')[1].split('.')[0]) <= 90\n",
    "]\n",
    "\n",
    "# Combine all station data into a single DataFrame with Master_Index added\n",
    "station_dfs = []\n",
    "for file in station_files:\n",
    "    station_df = pd.read_csv(file)\n",
    "    \n",
    "    # Add Master_Index based on the original index\n",
    "    station_df.loc[:, 'Master_Index'] = station_df.index\n",
    "    \n",
    "    # Ensure DATE column is in datetime format\n",
    "    station_df['DATE'] = pd.to_datetime(station_df['DATE'])\n",
    "    \n",
    "    station_dfs.append(station_df)\n",
    "\n",
    "# Combine all station data\n",
    "station_df = pd.concat(station_dfs, ignore_index=True)\n",
    "\n",
    "# List of contract files to process\n",
    "contract_files = [f'Separation_{i}.csv' for i in range(1, 6)]\n",
    "\n",
    "# Process each contract file\n",
    "merged_files_info = []\n",
    "for i, contract_file in enumerate(contract_files, start=1):\n",
    "    # Load the contract file\n",
    "    contract_path = os.path.join(contract_db_folder, contract_file)\n",
    "    contract_df = pd.read_csv(contract_path, on_bad_lines='skip')\n",
    "    \n",
    "    # Ensure DATE column is in datetime format\n",
    "    contract_df['DATE'] = pd.to_datetime(contract_df['DATE'])\n",
    "    \n",
    "    # Chronologically order the contract data\n",
    "    contract_df = contract_df[['DATE'] + [col for col in contract_df.columns if col != 'DATE']]\n",
    "    \n",
    "    # Merge all stations with the current contract\n",
    "    merged_df = pd.merge(station_df, contract_df, on='DATE', how='inner')\n",
    "    \n",
    "    # Save the merged DataFrame\n",
    "    merged_filename = f's0c{i}.csv'\n",
    "    merged_filepath = os.path.join(merged_db_folder, merged_filename)\n",
    "    merged_df.to_csv(merged_filepath, index=False)\n",
    "    \n",
    "    # Collect metadata for validation\n",
    "    merged_files_info.append((merged_filename, merged_df))\n",
    "    print(f\"Saved merged file: {merged_filename}\")\n",
    "\n",
    "# Validation Checks\n",
    "print(\"\\nValidation Summary:\")\n",
    "\n",
    "for filename, merged_df in merged_files_info:\n",
    "    unique_stations = merged_df['Station_ID'].nunique()\n",
    "    print(f\"File: {filename}\")\n",
    "    print(f\"  - Unique Station_ID values: {unique_stations}\")\n",
    "    print(f\"  - Shape: {merged_df.shape}\")\n",
    "    if unique_stations != 90:\n",
    "        print(\"  [WARNING] Not all 90 stations are present!\")\n",
    "\n",
    "# Ensure all files have the same shape\n",
    "shapes = [df.shape for _, df in merged_files_info]\n",
    "if len(set(shapes)) == 1:\n",
    "    print(\"\\nAll merged files have the same shape.\")\n",
    "else:\n",
    "    print(\"\\n[WARNING] Merged files have varying shapes.\")\n",
    "\n",
    "print(\"\\nProcessing complete.\")"
   ]
  },
  {
   "cell_type": "markdown",
   "metadata": {},
   "source": [
    "# Results\n",
    "\n",
    "## Exploratory Data Analysis\n",
    "\n",
    "Carry out whatever EDA you need to for your project.  Because every project will be different we can't really give you much of a template at this point. But please make sure you describe the what and why in text here as well as providing interpretation of results and context."
   ]
  },
  {
   "cell_type": "markdown",
   "metadata": {},
   "source": [
    "# Exploring NASA Weather Data: Insights into Climatic Trends\n",
    "\n",
    "This section delves into the NASA weather dataset to uncover patterns and trends in the global climate over time. By visualizing key metrics such as temperature, humidity, and precipitation, we aim to identify seasonal variations, anomalies, and long-term changes. Each figure and plot will be annotated to provide a clear context for the observed weather trends, helping us to better understand climate behavior from a global perspective."
   ]
  },
  {
   "cell_type": "code",
   "execution_count": null,
   "metadata": {},
   "outputs": [],
   "source": [
    "# Set plot style\n",
    "sns.set(style=\"whitegrid\")\n",
    "plt.figure(figsize=(16, 10))\n",
    "\n",
    "# Histograms of the key weather variables\n",
    "df[['Soil_Moisture', 'Temp_Avg', 'Temp_Max', 'Temp_Min', 'Earth_Skin_Temp', 'Rel_Humidity', 'Root_Soil_Wetness', 'Precip_Corrected']].hist(bins=20, figsize=(14,10), color='skyblue', edgecolor='black')\n",
    "plt.suptitle(\"Distribution of Key Agroclimatological Variables\", fontsize=18)\n",
    "plt.show()"
   ]
  },
  {
   "cell_type": "markdown",
   "metadata": {},
   "source": [
    "In this section, we examine the frequency distribution of key weather attributes in the dataset over the span of March 1st to October 15th. The histograms display how these variables varied across the year, providing insights into the typical environmental conditions during this period.\n",
    "\n",
    "- Soil Moisture: The soil moisture levels predominantly range between 50% and 90%, indicating consistently moist soil conditions throughout the year.\n",
    "- Average Temperature: The average temperature is around 26°C, suggesting a relatively warm climate during this period.\n",
    "- Maximum Temperature: The maximum temperature reaches approximately 30°C, with occasional peaks which probably reflect the hotter months of the year.\n",
    "- Minimum Temperature: The minimum temperature typically hovers around 23°C, indicating mild nighttime conditions.\n",
    "- Earth Skin Temperature: The most frequent earth skin temperature is around 27°C, reflecting the overall warmth of the surface.\n",
    "- Relative Humidity: Relative humidity was generally around 90%, suggesting consistently high moisture levels in the atmosphere, particularly during the wetter months.\n",
    "- Root Soil Wetness: The root soil wetness, which tracks the moisture available to plant roots, ranges from 50% to 90%, similar to the pattern observed in soil moisture levels.\n",
    "- Corrected Precipitation: Corrected precipitation was relatively low, averaging only about 5mm, indicating that rain was sparse that year.\n",
    "\n",
    "These distributions provide valuable context for understanding the environmental conditions that may affect agricultural practices and crop growth. The consistent moisture levels and relatively stable temperatures could suggest favorable conditions for crop development, though the limited precipitation may have implications for water management."
   ]
  },
  {
   "cell_type": "code",
   "execution_count": null,
   "metadata": {},
   "outputs": [],
   "source": [
    "# Calculate correlation matrix\n",
    "correlation_matrix = df[['Soil_Moisture', 'Temp_Avg', 'Temp_Max', 'Temp_Min', 'Earth_Skin_Temp', 'Rel_Humidity', 'Root_Soil_Wetness', 'Precip_Corrected']].corr()\n",
    "\n",
    "# Plot the correlation matrix as a heatmap\n",
    "plt.figure(figsize=(10, 8))\n",
    "sns.heatmap(correlation_matrix, annot=True, cmap=\"coolwarm\", vmin=-1, vmax=1)\n",
    "plt.title(\"Correlation Matrix of Agroclimatological Variables\", fontsize=16)\n",
    "plt.show()"
   ]
  },
  {
   "cell_type": "markdown",
   "metadata": {},
   "source": [
    "Strong Positive Correlations:  \n",
    "Soil Moisture and Root Soil Wetness (0.97): These variables show a strong positive correlation, meaning as soil moisture increases, root soil wetness also increases, which is expected as both relate to soil's moisture content.\n",
    "Average temperature and Relative Humidity (-0.41): There's a moderate negative correlation, which could suggest that as temperature increases, relative humidity tends to decrease, which aligns with typical atmospheric behavior (warmer air holds more moisture).\n",
    "\n",
    "Strong Negative Correlations:  \n",
    "Precipitation and Temperature Variables (e.g., -0.33 between Precipitation and Temp_Max): This suggests that higher precipitation levels tend to occur during cooler temperatures, a common pattern in many climates where heavy rainfall tends to coincide with cloud cover and lower temperatures.\n",
    "\n",
    "Weak or No Correlations:  \n",
    "The correlation between Precipitation and most other variables is weak, suggesting that precipitation is not strongly linked to the other factors like soil moisture, temperature, or humidity over the observed period."
   ]
  },
  {
   "cell_type": "code",
   "execution_count": null,
   "metadata": {},
   "outputs": [],
   "source": [
    "# Define the DOY ranges for each season\n",
    "seasons = {\n",
    "    'Winter': (355, 365),\n",
    "    'Winter_Cont': (1, 79),  # Continues into the new year\n",
    "    'Spring': (80, 171),\n",
    "    'Summer': (172, 265),\n",
    "    'Fall': (266, 354)\n",
    "}\n",
    "\n",
    "# Plot seasonal trends with seasonal highlights\n",
    "plt.figure(figsize=(18, 16))\n",
    "\n",
    "# Variables to examine by day of year\n",
    "variables = ['Soil_Moisture', 'Temp_Avg', 'Temp_Max', 'Temp_Min', 'Earth_Skin_Temp', 'Rel_Humidity', 'Root_Soil_Wetness', 'Precip_Corrected']\n",
    "\n",
    "# Higher contrast colors for each season\n",
    "season_colors = {\n",
    "    'Winter': '#1f77b4',   # Dark blue\n",
    "    'Spring': '#2ca02c',   # Dark green\n",
    "    'Summer': '#ff7f0e',   # Orange\n",
    "    'Fall': '#d62728'      # Dark red\n",
    "}\n",
    "\n",
    "# Plot each variable\n",
    "for i, var in enumerate(variables, 1):\n",
    "    plt.subplot(4, 2, i)\n",
    "    sns.lineplot(x=df['DATE'].dt.dayofyear, y=df[var], estimator='mean', errorbar=None, color=\"teal\")\n",
    "    plt.title(f\"Seasonal Trend of {var} (Day of Year)\", fontsize=14)\n",
    "    plt.xlabel(\"Day of Year\")\n",
    "    plt.ylabel(var)\n",
    "    \n",
    "    # Highlight each season with higher contrast colors\n",
    "    plt.axvspan(seasons['Winter'][0], seasons['Winter'][1], color=season_colors['Winter'], alpha=0.2, label=\"Winter\")\n",
    "    plt.axvspan(seasons['Winter_Cont'][0], seasons['Winter_Cont'][1], color=season_colors['Winter'], alpha=0.2)\n",
    "    plt.axvspan(seasons['Spring'][0], seasons['Spring'][1], color=season_colors['Spring'], alpha=0.2, label=\"Spring\")\n",
    "    plt.axvspan(seasons['Summer'][0], seasons['Summer'][1], color=season_colors['Summer'], alpha=0.2, label=\"Summer\")\n",
    "    plt.axvspan(seasons['Fall'][0], seasons['Fall'][1], color=season_colors['Fall'], alpha=0.2, label=\"Fall\")\n",
    "    \n",
    "    # Add legend to each subplot\n",
    "    plt.legend(loc='upper right')\n",
    "\n",
    "plt.tight_layout()\n",
    "plt.suptitle(\"Seasonal Trends of Agroclimatological Variables Throughout the Year\", fontsize=18, y=1.02)\n",
    "plt.show()"
   ]
  },
  {
   "cell_type": "markdown",
   "metadata": {},
   "source": [
    "Here we observe the seasonal trends of key agroclimatological variables throughout the year, providing insight into the cyclical patterns that influence climate and soil conditions in the region.\n",
    "\n",
    "Soil Moisture: Soil moisture exhibits a clear seasonal pattern, rising during the summer and reaching its peak in the spring. In contrast, it drops during the winter months, which could reflect the decreased rainfall and colder temperatures during this time. This fluctuation aligns with the natural cycle of moisture retention in the soil due to varying precipitation levels.\n",
    "\n",
    "Temperature Trends: The average temperature shows a consistent seasonal pattern, with the highest average temperatures occurring in January. This is consistent with the climate in Côte d'Ivoire, where the temperature can be particularly high in the dry season, which typically peaks in the earlier months of the year. The temperature decreases through the rest of the year, aligning with the cooler periods of the rainy season.\n",
    "\n",
    "Precipitation Patterns: Precipitation appears sporadic, with significant rainfall occurring irregularly throughout the year. Notably, January has the longest period of no precipitation, which corresponds to the hotter, drier season. This seasonal variation reflects the erratic nature of rainfall in this climate, with the wet season likely occurring during the mid to late part of the year, bringing periodic rainfall that contrasts sharply with the dry spells."
   ]
  },
  {
   "cell_type": "markdown",
   "metadata": {},
   "source": [
    "# Analyzing Cocoa Futures Contract Prices: Market Dynamics in Focus\n",
    "\n",
    "In this section, we focus on the analysis of cocoa futures contract prices. Through time series visualizations, we explore the fluctuations in cocoa prices, identifying potential factors influencing market behavior such as supply-demand shifts, economic events, or seasonal impacts. Annotated graphs will highlight key price movements and allow for a deeper understanding of the cocoa market's volatility and trends over the past years."
   ]
  },
  {
   "cell_type": "code",
   "execution_count": null,
   "metadata": {},
   "outputs": [],
   "source": [
    "# Load df_cc1 from a CSV file (you can adjust the path accordingly)\n",
    "df_cc1 = pd.read_csv('Contract_DB/df_cc1.csv')  # Replace with your actual path if necessary\n",
    "\n",
    "# Ensure that the 'Date' column is in datetime format\n",
    "df_cc1['Date'] = pd.to_datetime(df_cc1['Date'])\n",
    "\n",
    "# Set 'Date' as the index for the DataFrame\n",
    "df_cc1.set_index('Date', inplace=True)\n",
    "\n",
    "# Create a line graph with Plotly for the 'CLOSE' prices\n",
    "fig = go.Figure()\n",
    "\n",
    "fig.add_trace(go.Scatter(\n",
    "    x=df_cc1.index,  # Dates as x-axis from the index\n",
    "    y=df_cc1['CLOSE'],  # Closing prices as y-axis\n",
    "    mode='lines',\n",
    "    name='Cocoa Futures Close Price'\n",
    "))\n",
    "\n",
    "# Customize layout\n",
    "fig.update_layout(\n",
    "    title=\"Cocoa Futures Closing Prices (2020-2024)\",\n",
    "    xaxis_title=\"Date\",\n",
    "    yaxis_title=\"Closing Price\",\n",
    "    template=\"plotly_white\"\n",
    ")\n",
    "\n",
    "# Show plot\n",
    "fig.show()"
   ]
  },
  {
   "cell_type": "markdown",
   "metadata": {},
   "source": [
    "The chart shows a significant spike in cocoa futures prices in late 2024, with the highest price of $12,261.20 recorded on April 19, a 76% increase from the same date in 2023. This was driven by a cocoa shortage due to adverse conditions in the Ivory Coast and Ghana, which produce over 60% of the world's cocoa, and led to price hikes by major chocolate producers."
   ]
  },
  {
   "cell_type": "code",
   "execution_count": null,
   "metadata": {},
   "outputs": [],
   "source": [
    "# List of filenames\n",
    "separation_files = [\n",
    "    'Contract_DB/Separation_1.csv',\n",
    "    'Contract_DB/Separation_2.csv',\n",
    "    'Contract_DB/Separation_3.csv',\n",
    "    'Contract_DB/Separation_4.csv',\n",
    "    'Contract_DB/Separation_5.csv'\n",
    "]\n",
    "\n",
    "# Read the data from CSV files into a dictionary of DataFrames\n",
    "new_separated_data = {}\n",
    "for filename in separation_files:\n",
    "    # Load the CSV file\n",
    "    data = pd.read_csv(filename)\n",
    "    \n",
    "    # Ensure the 'Date' column is parsed as a datetime object\n",
    "    data['DATE'] = pd.to_datetime(data['DATE'])\n",
    "    \n",
    "    # Set the 'Date' column as the index for time-based plotting\n",
    "    data.set_index('DATE', inplace=True)\n",
    "    \n",
    "    # Add the DataFrame to the dictionary\n",
    "    # Use the filename (or a custom name) as the key\n",
    "    new_separated_data[filename.split('/')[-1].replace('.csv', '')] = data\n",
    "\n",
    "# Create subplots for each separation in a single figure\n",
    "fig = make_subplots(rows=len(new_separated_data), cols=1, shared_xaxes=True, subplot_titles=list(new_separated_data.keys()))\n",
    "\n",
    "# Plot each separation as a separate subplot\n",
    "for i, (name, data) in enumerate(new_separated_data.items(), start=1):\n",
    "    fig.add_trace(\n",
    "        go.Scatter(x=data.index, y=data['CLOSE'], mode='lines', name=name),\n",
    "        row=i, col=1\n",
    "    )\n",
    "\n",
    "# Customize layout\n",
    "fig.update_layout(\n",
    "    title=\"Cocoa Futures Closing Prices for Each Separation\",\n",
    "    xaxis_title=\"Date\",\n",
    "    yaxis_title=\"Closing Price\",\n",
    "    height=800,  # Adjust height for readability\n",
    "    template=\"plotly_white\"\n",
    ")\n",
    "\n",
    "# Show plot\n",
    "fig.show()"
   ]
  },
  {
   "cell_type": "markdown",
   "metadata": {},
   "source": [
    "The separations highlight a consistent pattern of stagnation followed by a sharp price rise in early 2024, peaking in April and stabilizing at elevated levels through late 2024. This reflects the cascading impact of significant supply disruptions in key cocoa-producing regions like the Ivory Coast and Ghana, leading to financial speculation and sustained higher prices.\n",
    "\n",
    "- Separation_1 (June 2023 - March 1, 2024): Prices average around 3K before gradually rising from January 4, 2024, reaching 8K by March. This period sets the stage for understanding the initial market response to supply concerns.\n",
    "\n",
    "- Separation_2 (August 1, 2023 - May 1, 2024): Similar to Separation_1 but with a delayed price rise starting around January 20, 2024, reinforcing the observation of an early-2024 upward trend.\n",
    "\n",
    "- Separation_3 (October 2, 2023 - July 2024): Stagnation around 4-5K persists until February 2, 2024, followed by a sharp rise, peaking on April 19, 2024. This segment captures the lead-up to and peak of the price surge.\n",
    "\n",
    "- Separation_4 (December 1, 2023 - August 30, 2024): Reflects a similar trajectory to Separation_3 but includes the stabilization phase around 8K, providing insights into post-peak market behavior.\n",
    "\n",
    "- Separation_5 (February 1, 2024 - October 9, 2024): Focuses on the period after the peak, showing prices consistently averaging $8,000, indicating a new equilibrium in the market."
   ]
  },
  {
   "cell_type": "markdown",
   "metadata": {},
   "source": [
    "# Merged Dataset Analysis: Combining Weather and Cocoa Prices for Correlation Insights\n",
    "\n",
    "Here, we merge the NASA weather dataset with the cocoa futures data on the Date column to explore potential correlations between climate conditions and cocoa market fluctuations. This section will present visualizations and statistical analyses of the combined dataset, helping us identify patterns that may suggest how weather factors like temperature and rainfall could influence cocoa prices over time. The merged dataset offers a unique perspective on how external environmental factors might affect commodity markets."
   ]
  },
  {
   "cell_type": "code",
   "execution_count": null,
   "metadata": {},
   "outputs": [],
   "source": [
    "import matplotlib.pyplot as plt\n",
    "from mpl_toolkits.mplot3d import Axes3D\n",
    "import matplotlib.dates as mdates\n",
    "import numpy as np\n",
    "from scipy.interpolate import griddata\n",
    "import pandas as pd\n",
    "\n",
    "# Load all five merged files\n",
    "merged_files = {\n",
    "    's0c1': pd.read_csv(\"Merged_DB/s0c1.csv\"),\n",
    "    's0c2': pd.read_csv(\"Merged_DB/s0c2.csv\"),\n",
    "    's0c3': pd.read_csv(\"Merged_DB/s0c3.csv\"),\n",
    "    's0c4': pd.read_csv(\"Merged_DB/s0c4.csv\"),\n",
    "    's0c5': pd.read_csv(\"Merged_DB/s0c5.csv\"),\n",
    "}\n",
    "\n",
    "# Loop through each file and create a 3D surface plot\n",
    "for name, df in merged_files.items():\n",
    "    # Ensure DATE is in datetime format\n",
    "    df['DATE'] = pd.to_datetime(df['DATE'])\n",
    "\n",
    "    # Prepare data for plotting\n",
    "    x = mdates.date2num(df['DATE'])  # Convert dates to numeric format\n",
    "    y = df['Soil_Moisture']\n",
    "    z = df['CLOSE']\n",
    "\n",
    "    # Create a regular grid to interpolate the data\n",
    "    xi = np.linspace(x.min(), x.max(), 200)\n",
    "    yi = np.linspace(y.min(), y.max(), 200)\n",
    "    xi, yi = np.meshgrid(xi, yi)\n",
    "\n",
    "    # Interpolate z values on the grid\n",
    "    zi = griddata((x, y), z, (xi, yi), method='cubic')\n",
    "\n",
    "    # Create the 3D plot\n",
    "    fig = plt.figure(figsize=(10, 8))\n",
    "    ax = fig.add_subplot(111, projection='3d')\n",
    "\n",
    "    # Plot the surface\n",
    "    surf = ax.plot_surface(xi, yi, zi, cmap='viridis', edgecolor='none', rstride=1, cstride=1, antialiased=True)\n",
    "\n",
    "    # Set axis labels and title\n",
    "    ax.set_xlabel('')  # Remove the Date label\n",
    "    ax.set_ylabel('Soil Moisture', fontsize=12, labelpad=10)\n",
    "    ax.set_zlabel('Close', fontsize=12, labelpad=3)\n",
    "    ax.set_title(f\"Soil_Moisture ({name})\", fontsize=16, pad=1)\n",
    "\n",
    "    # Format the x-axis to show dates more clearly\n",
    "    ax.xaxis.set_major_formatter(mdates.DateFormatter('%Y-%m-%d'))\n",
    "    fig.autofmt_xdate()  # Rotate date labels for better readability\n",
    "\n",
    "    # Hide the color bar (heatmap legend)\n",
    "    cbar = fig.colorbar(surf, ax=ax, pad=0.1)\n",
    "    cbar.remove()\n",
    "\n",
    "    # Show the plot for the current file\n",
    "    plt.show()"
   ]
  },
  {
   "cell_type": "markdown",
   "metadata": {},
   "source": [
    "The five graphs show 3D surface plots illustrating the relationship between date, soil moisture, and closing prices for cocoa futures, based on five different contracts (s0c1, s0c2, s0c3, s0c4, s0c5). Here's a breakdown of what each graph represents:\n",
    "\n",
    "X-Axis (Date): Represents the timeline of each contract. The dates are plotted to observe changes over the contract's duration.\n",
    "Y-Axis (Soil Moisture): Reflects the measured soil moisture levels in cocoa-producing regions, which influence production and market expectations.\n",
    "Z-Axis (Closing Price): Shows the cocoa futures' closing prices. These prices are impacted by soil conditions, as soil moisture levels can affect cocoa crop yields.\n",
    "\n",
    "Purpose of 5 Different Graphs\n",
    "Each graph corresponds to a specific contract (s0c1 through s0c5), representing different time periods or trading terms. This separation helps capture distinct trends and market reactions within those periods. Since soil moisture varies seasonally and geographically, examining these separately ensures a clear analysis of how contracts and external conditions influence cocoa prices."
   ]
  },
  {
   "cell_type": "markdown",
   "metadata": {},
   "source": [
    "1. Soil_Moisture (s0c1):\n",
    "Observations:\n",
    "The closing prices start relatively low and increase significantly over time, especially as soil moisture levels rise.\n",
    "The surface shows a steep upward trend in closing prices near the end of the contract period.\n",
    "Insights:\n",
    "This indicates that as soil moisture increases, there is a market reaction likely tied to concerns about optimal growing conditions for cocoa crops.\n",
    "A sharp price rise suggests either demand pressure or uncertainty in supply as the contract approaches maturity.\n",
    "\n",
    "3. Soil_Moisture (s0c2):\n",
    "Observations:\n",
    "The graph shows a consistent low closing price when soil moisture is stagnant, with a sharp increase in prices as soil moisture levels decrease near the end of the timeline.\n",
    "Insights:\n",
    "Lower soil moisture might signal poor growing conditions, potentially leading to lower yields. This would drive up cocoa prices due to supply concerns.\n",
    "This contract is particularly sensitive to declining soil moisture, reflecting market concerns about drought conditions.\n",
    "\n",
    "\n",
    "5. Soil_Moisture (s0c3):\n",
    "Observations:\n",
    "Prices remain relatively stable around mid-level soil moisture but begin a steep upward trajectory as the timeline progresses, peaking around April.\n",
    "Soil moisture does not fluctuate as widely as in other graphs.\n",
    "Insights:\n",
    "The stable moisture levels suggest a less volatile growing season, with price increases likely driven by other external factors (e.g., demand or speculative trading).\n",
    "The late peak indicates that price trends for this contract are more tied to seasonal expectations and harvest timing rather than immediate soil moisture changes.\n",
    "\n",
    "\n",
    "7. Soil_Moisture (s0c4):\n",
    "Observations:\n",
    "Closing prices stagnate at a high level (~8,000) for most of the timeline, regardless of soil moisture variation.\n",
    "There is less sharp fluctuation compared to other contracts.\n",
    "Insights:\n",
    "This may reflect a period where market participants have priced in soil conditions, resulting in fewer speculative movements.\n",
    "The consistently high prices could signal increased global demand or a market already anticipating supply shortages, regardless of soil moisture.\n",
    "\n",
    "\n",
    "9. Soil_Moisture (s0c5):\n",
    "Observations:\n",
    "Similar trends to s0c4, with prices averaging around 8,000 throughout most of the contract period.\n",
    "Minor fluctuations in soil moisture and prices indicate relative market stability for this timeframe.\n",
    "Insights:\n",
    "This contract shows the least sensitivity to soil moisture variations, suggesting that other macroeconomic factors (e.g., supply chain issues or long-term weather patterns) dominate price changes."
   ]
  },
  {
   "cell_type": "markdown",
   "metadata": {},
   "source": [
    "Soil Moisture-Price Correlation:\n",
    "Contracts with sharp changes in soil moisture levels (e.g., s0c1, s0c2) show more significant price volatility, reflecting immediate market concerns about cocoa crop conditions. Contracts with stable soil moisture (e.g., s0c4, s0c5) suggest the market may have already priced in these conditions or that other factors influence prices more heavily\n",
    "\n",
    "Seasonal Impact:\n",
    "Contracts like s0c3 and s0c4 show price peaks corresponding to expected harvest periods, indicating a seasonal impact on cocoa prices.\n",
    "\n",
    "Market Sensitivity:\n",
    "Earlier contracts (s0c1, s0c2) are more reactive to environmental changes, reflecting the speculative nature of the market as uncertainties about cocoa production emerge. Later contracts (s0c4, s0c5) reflect a stabilized market with prices adjusted to long-term expectations.\n",
    "Why Analyze Separations by Contract?:\n",
    "\n",
    "Each contract captures a different time period, and soil moisture levels vary seasonally, impacting crop yields and market sentiment differently. By isolating contracts, we can pinpoint specific periods of price sensitivity to soil conditions, allowing for better forecasting and risk management in cocoa futures trading."
   ]
  },
  {
   "cell_type": "code",
   "execution_count": null,
   "metadata": {},
   "outputs": [],
   "source": [
    "for name, df in merged_files.items():\n",
    "    # Select the relevant features and the close price\n",
    "    features = ['Temp_Avg', 'Soil_Moisture', 'Rel_Humidity', 'CLOSE']  # Add your relevant features\n",
    "    data = df[features]\n",
    "\n",
    "    # Compute the correlation matrix\n",
    "    corr_matrix = data.corr()\n",
    "\n",
    "    # Plot the heatmap\n",
    "    plt.figure(figsize=(8, 6))\n",
    "    sns.heatmap(corr_matrix, annot=True, cmap='coolwarm', center=0)\n",
    "    plt.title(f\"Correlation between Agroclimatological Features and Cocoa Close Price ({name})\")\n",
    "    plt.show()"
   ]
  },
  {
   "cell_type": "markdown",
   "metadata": {},
   "source": [
    "Cocoa prices are significantly influenced by agroclimatological factors, with notable variations across separations. In Separation 1, average temperature shows a strong positive correlation with prices, suggesting that higher temperatures, likely indicative of crop stress, drive prices up due to supply concerns. However, this correlation gradually weakens by Separation 5. Conversely, soil moisture and relative humidity exhibit strong negative correlations with prices in Separation 1, reflecting favorable growing conditions that stabilize yields and reduce price volatility. Over time, these correlations weaken, with soil moisture nearing zero by Separation 5, while relative humidity begins to show increasing correlation with prices. These trends emphasize the dynamic relationship between climate factors and cocoa prices, underscoring the importance of climate data in forecasting and market strategies."
   ]
  },
  {
   "cell_type": "code",
   "execution_count": null,
   "metadata": {},
   "outputs": [],
   "source": [
    "# Loop through each file and create scatter plots with regression lines for each feature\n",
    "for name, df in merged_files.items():\n",
    "    for feature in features[:-1]:  # Exclude 'CLOSE' from features for plotting\n",
    "        plt.figure(figsize=(4, 3))\n",
    "        sns.regplot(x=df[feature], y=df['CLOSE'], scatter_kws={'s':10})\n",
    "        plt.title(f'Relationship between {feature} and Cocoa Close Price ({name})')\n",
    "        plt.xlabel(feature)\n",
    "        plt.ylabel('Close Price')\n",
    "        plt.show()"
   ]
  },
  {
   "cell_type": "markdown",
   "metadata": {},
   "source": [
    "The scatter plots further illustrate the positive and negative relationships identified in the correlation matrix, with the addition of a linear regression line. For features like average temperature, the regression line shows a positive relationship with cocoa close prices, consistent with the correlation observed in earlier analysis. In contrast, soil moisture and relative humidity exhibit negative slopes, confirming their inverse correlation with cocoa prices. These regression lines visually reinforce the strength and direction of the relationships, highlighting how climatic factors such as temperature, soil moisture, and humidity impact cocoa market prices."
   ]
  },
  {
   "cell_type": "code",
   "execution_count": null,
   "metadata": {},
   "outputs": [],
   "source": [
    "# Loop through each file and create a scatter matrix (pairplot)\n",
    "for name, df in merged_files.items():\n",
    "    # Select the relevant features for the scatter matrix\n",
    "    data = df[features]\n",
    "    \n",
    "    # Create the pairplot (scatter matrix)\n",
    "    sns.pairplot(data, hue='CLOSE', palette='coolwarm')  # Color points by CLOSE, you can adjust this based on preferences\n",
    "    plt.suptitle(f\"Scatter Matrix for {name}\", fontsize=16, y=1.02)\n",
    "    plt.show()"
   ]
  },
  {
   "cell_type": "markdown",
   "metadata": {},
   "source": [
    "These scatter matrices provide a more nuanced view of the relationship between climate variables and cocoa prices over time. They underscore the importance of temperature in driving cocoa price fluctuations, while showing how soil moisture and relative humidity play a role in stabilizing prices when favorable growing conditions are present. By visualizing these relationships across multiple time periods, we gain a deeper understanding of how weather patterns in Côte d'Ivoire affect cocoa markets, supporting the need for climate data to better forecast and manage cocoa price volatility.\n",
    "\n",
    "- s0c1 Scatter Matrix:\n",
    "Temperature vs. Cocoa Prices: We observe a positive relationship between temperature and cocoa closing prices. As temperature increases, prices tend to rise, possibly indicating that higher temperatures are linked to supply concerns due to crop stress.\n",
    "Soil Moisture and Relative Humidity: Both show a negative correlation with cocoa prices, especially for the lower temperature ranges. Higher soil moisture and relative humidity typically signal favorable growing conditions, leading to more stable cocoa supply and lower prices. This relationship is consistent with the negative correlation found in the correlation matrix.\n",
    "\n",
    "- s0c2 Scatter Matrix:\n",
    "Temperature vs. Cocoa Prices: The relationship remains positive, though less pronounced compared to s0c1. This suggests that, over time, the impact of temperature on cocoa prices could moderate as other factors (e.g., humidity or soil moisture) come into play.\n",
    "Soil Moisture and Relative Humidity: The negative relationships between these variables and cocoa prices are still present, but the patterns show less pronounced clustering, implying that changes in these variables may have a weaker impact on cocoa prices as we progress through the different socioeconomic separations.\n",
    "\n",
    "- s0c3 Scatter Matrix:\n",
    "Temperature vs. Cocoa Prices: The temperature vs. price relationship remains positive, supporting the idea that cocoa prices increase when temperatures rise, likely due to supply threats.\n",
    "Soil Moisture and Relative Humidity: The inverse relationship becomes less clear for soil moisture, but relative humidity still shows a negative trend, highlighting how favorable weather conditions reduce market volatility and lower cocoa prices.\n",
    "\n",
    "\n",
    "- s0c4 Scatter Matrix:\n",
    "Temperature vs. Cocoa Prices: Temperature continues to show a positive correlation with cocoa prices, confirming that as temperatures increase, prices tend to follow suit.\n",
    "Soil Moisture and Relative Humidity: Both show weak or no distinct relationship with cocoa prices, supporting the idea that, over time, other factors (perhaps demand-side elements) may be playing a more significant role in price movements.\n",
    "\n",
    "\n",
    "- s0c5 Scatter Matrix:\n",
    "Temperature vs. Cocoa Prices: The positive relationship between temperature and cocoa prices is still observable, though it's becoming more subdued compared to earlier periods.\n",
    "Soil Moisture and Relative Humidity: These features continue to display weak correlations with cocoa prices. This suggests that, in later periods, factors like humidity and moisture may be less influential on price volatility, reinforcing the notion that stable climatic conditions lead to predictable cocoa supply and reduced price fluctuations."
   ]
  },
  {
   "cell_type": "markdown",
   "metadata": {},
   "source": [
    "## ETC AD NASEUM\n",
    "\n",
    "Some more words and stuff.  Remember notebooks work best if you interleave the code that generates a result with properly annotate figures and text that puts these results into context."
   ]
  },
  {
   "cell_type": "code",
   "execution_count": null,
   "metadata": {},
   "outputs": [],
   "source": [
    "## YOUR CODE HERE\n",
    "## FEEL FREE TO ADD MULTIPLE CELLS PER SECTION"
   ]
  },
  {
   "cell_type": "markdown",
   "metadata": {},
   "source": [
    "# Ethics & Privacy"
   ]
  },
  {
   "cell_type": "markdown",
   "metadata": {},
   "source": [
    "The data from the Regional NASA POWER DAV Tool is likely to be free from direct privacy concerns since it deals with weather patterns and agroclimatological features rather than personal information. However, one potential ethical issue could arise from market biases. For instance, cocoa futures markets may disproportionately affect certain regions like West Africa, where cocoa farming is a crucial livelihood. Over-reliance on market speculation driven by environmental data could indirectly harm smallholder farmers, especially if it triggers significant price volatility.\n",
    "\n",
    "Additionally, biases in the dataset might arise from incomplete or skewed data collection. For example, if the ENSO data disproportionately focuses on certain regions, or if some climatic factors are weighted more heavily than others, the analysis may produce results that don’t fully account for all relevant variables. To address this, we will carefully evaluate data completeness and strive to ensure an equitable representation of climatic impacts across cocoa-producing regions. We will also include measures to detect biases by comparing different regional trends and assessing whether certain groups are disproportionately affected by market volatility.\n",
    "\n",
    "Finally, we must be cautious about how we communicate our findings, especially in a manner that could unduly influence financial markets. Ensuring that our analysis does not overstate predictive certainty is essential to avoid exacerbating speculative behaviors that could harm producers in vulnerable regions. Transparency about the limitations of our data and models will be a key component of handling these ethical concerns."
   ]
  },
  {
   "cell_type": "markdown",
   "metadata": {},
   "source": [
    "# Discusison and Conclusion\n",
    "\n",
    "Cocoa futures form the foundation of both, farming and manufacturing.This is seen in a number of entities involved in the production and production of cocoa. First of all, because cocoa futures protect farmers from price drops, which could negatively affect how they make a living, they provide income stability. If rising cocoa prices cause output to become unstable, manufacturers also bear the effects, as this can result in higher costs and unstable product pricing and distribution. We think that in order for all parties involved in the cocoa supply chain to make wise choices about production, pricing, and/or distribution, it is essential to be able to forecast this market volatility.\n",
    "The goal of this study was to find out how well certain agroclimatological features could forecast future volatility in cocoa futures and market prices. Two important metrics, the CCc1 spread and the COCO Wisdom Tree, were the focus of our investigation. These metrics are significant because they provide insight into the short term market volatility and the broader market structure of the cocoa industry. To properly examine this, we used historical data spanning seven months.\n",
    "\n",
    "We were able to identify significant relationships between agroclimatological factors and cocoa price volatility, just as we originally hypothesized. A strong positive correlation between temperature and cocoa prices was found that suggests elevated temperatures indicate stress on cocoa crops. This crop stress most commonly occurs during critical growing periods which leads to less crop yields. As a result, farmers can become worried about supply shortages, propelling market volatility and price increases. Poor soil moisture suggests unfavorable growing conditions, which can be associated with droughts or water scarcity, which can eventually lead to a decline in crop health and a shortage of supply, which leads to higher pricing. We also can see a clear difference in how market contracts respond to changes in weather patterns. We concluded that early contracts are more prone to agroclimatological changes; the market responds to immediate instabilities and fluctuations in crop production. In contrast, later contracts show signs of market stabilization. We think this is likely the result of long term supply expectations and/or additional economic or climatic patterns that were factored into the pricing over time.\n",
    "\n",
    "Bridging back to the importance of why we decided to focus on COCO Wisdom Tree and CCc1 spread, these were chosen as the focal market metrics. The COCO Wisdom Tree, being a traded product that tracks cocoa futures prices, particularly simplifies market behavior analyses and supplies us with a clearer understanding of the overall trends in the market. The CCc1 spread metric, which is the price difference between two cocoa futures contracts, explains the changes in supply and demand expectations over time. And so, the interplay of these two metrics helps us quantify and better understand the relationships between agroclimatological factors and how they influence market instabilities.\n",
    "\n",
    "Combining the climate data from the NASA POWER DAV tool and the cocoa futures data was a strategic move on our part because it allowed us to link environmental data patterns to market fluctuations. Merging these datasets helped us establish a temporal relationship between climatic events and price changes. We achieved this by aligning both datasets by date to directly compare daily climate conditions with cocoa price trends. To do this, we divided the climate data into geographic/spatial regions called stations to identify localized weather patterns, and then we divided the futures data into time periods called separations to observe identifiable and recurring patterns. As a result, we produced a merged dataset that provided a holistic overview, connecting agroclimatological factors to both short and long term price spikes and market stabilization. We acknowledged the limitations of this approach, particularly the time frame, which leaves room for improvement since we chose a 7 month period. This duration does not capture the entire ENSO cycle or other significant events, which were initially of interest for this project but were difficult to analyze due to the data available. We lacked access to some other futures contracts, which could have provided a more comprehensive perspective.\n",
    "\n",
    "To conclude, we now understand the critical importance of agroclimatological factors in shaping market behavior, which is essential for building a resilient cocoa supply chain. Cocoa is known to be highly sensitive to various climatic, agricultural, and weather factors, making this analysis especially relevant in our present day. As climate change continues to escalate, it directly harms agricultural systems, creating disruptions that ripple through the global economy. By understanding these interactions and patterns, we can not only help stakeholders in the cocoa industry anticipate and mitigate risks but also contribute to future efforts toward sustainability and strategic planning.\n",
    "\n",
    "\n",
    "# Team Contributions\n",
    "\n",
    "| Meeting Date | Meeting Time | Completed Before Meeting | Discuss at Meeting |\n",
    "|:------------:|:------------:|--------------------------|--------------------|\n",
    "| 9/30  | 1PM | NA | - Project Overview <br> - Project Guidelines <br> - JupyterHub Setup <br> - Set up GitHub repository | \n",
    "| 10/5  | 11AM - 12PM | - Review 3 previous projects <br> - Propose 3 project ideas each | - Reviewed project guidelines <br> - Discussed proposed projects <br> - Developed a plan for the next meeting | \n",
    "| 10/7  | 5PM - 6PM | - Review 3 research papers (focus on referenced datasets) <br> - Identify 2-3 datasets for chosen topic | - Meet at Geisel <br> - Select the strongest project | \n",
    "| 10/10 | 11AM - 12PM | - Consult with TA to review project plan <br> | - Research prior work for background section <br> |\n",
    "| 10/12 | 11AM - 1PM | - Made list of data from NASA website to choose from <br> - Finish Project Proposal | - Decide on data to use for clearning <br>  \n",
    "| 10/14 | 9AM - 10AM | - Finish Project Proposal | - Reframe Question to be more specific <br> - Gather data for clearning <br> |\n",
    "| 10/16 | 9AM - 10AM | - Finish Project Proposal <br> - upload data to kaggle <br> - Gather data for clearning | - Explained the data gathered <br> - updates on background research <br> - Oceanic areas had missing data (NASA) |\n",
    "| 10/21 | 6PM - 7PM | - Finish Project Proposal <br> - Data exploration | - Project Review <br> - explained gathered data <br> |\n",
    "| 10/24 | 2:30PM - 3:30PM | - Clean Data | - Review Project Proposal  <br> - Create a task list for the analysis |\n",
    "| 10/30 | 8AM - 9:30AM | - EDA weather data | - Discussed process moving forward <br> - Time series analysis (ultimate goal) |\n",
    "| 11/6 | 6:30PM - 8:30PM | - Get new weather data <br> - Finish Data Checkpoint <br> - Update corrilation Map <br> - Vet cocoa data | - EDA analysis as a team <br> - Cleaned data for NASA and Cocoa closing prices <br> - created scripts to clear outputs for notebooks|\n",
    "| 11/8 | 4PM - 5:30PM | - Fix time breakdown for CC1 | - EDA analysis as a team per stations (3D gradiend maps)  |\n",
    "| 11/13 | 6:30PM - 8:30PM | - Fix time breakdown for CC1 | - Update goals for next meeting <br> - Finish DataCheckpoint  |\n",
    "| 11/22 | 6:30PM - 8:30PM | - Get refinitive access <br> - Find price commodity data for cocoa <br> - Test prediction model to see if viable for project  | - Discuss   |\n",
    "| 11/25 | 6:30PM - 8:30PM | - Ale: Finish the visualization for the Refinitiv Data and create a new detailed jupyter nb called \"Requests.ipynb\" where you describe all the different ways and methodologies for trading cocoa <br> - Jack: Add the descriptions and to the EDA and rationale for each statistical analysis and visualization <br> -Spandan: Work on all the statical analysis and the visualizations for the EDA  | - Finish EDA checkpoint|\n",
    "| 12/3 | 6:30PM - 8:30PM | - Seema: finished abstract and conclusion and dicussion sections\n",
    "| 12/10 | 7:00PM - 9:00PM | |- Record final video and finalize project"
   ]
  },
  {
   "cell_type": "code",
   "execution_count": null,
   "metadata": {},
   "outputs": [],
   "source": []
  }
 ],
 "metadata": {
  "kernelspec": {
   "display_name": "Python 3 (ipykernel)",
   "language": "python",
   "name": "python3"
  },
  "language_info": {
   "codemirror_mode": {
    "name": "ipython",
    "version": 3
   },
   "file_extension": ".py",
   "mimetype": "text/x-python",
   "name": "python",
   "nbconvert_exporter": "python",
   "pygments_lexer": "ipython3",
   "version": "3.11.9"
  }
 },
 "nbformat": 4,
 "nbformat_minor": 4
}
