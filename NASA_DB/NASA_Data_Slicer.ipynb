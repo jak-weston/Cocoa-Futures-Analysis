{
 "cells": [
  {
   "cell_type": "markdown",
   "id": "505511b3-6392-46ec-a60a-a5b9e6600c08",
   "metadata": {},
   "source": [
    "# NASA Agroclimatological Data Slicer\n",
    "\n",
    "This file slices the Clean_NASA_Agroclimatological.csv df by the different geographical stations. "
   ]
  },
  {
   "cell_type": "markdown",
   "id": "b78d4893-5efe-45b2-bdd2-e76c1ba2f9fa",
   "metadata": {},
   "source": [
    "### Import Required Pacakages"
   ]
  },
  {
   "cell_type": "code",
   "execution_count": 8,
   "id": "daac0f93-fb19-418f-ac0c-3329893477e0",
   "metadata": {},
   "outputs": [],
   "source": [
    "import pandas as pd\n",
    "import numpy as np\n",
    "import os"
   ]
  },
  {
   "cell_type": "code",
   "execution_count": 3,
   "id": "8155b6c2-6673-47ff-9504-f18c8f0fef6d",
   "metadata": {},
   "outputs": [
    {
     "data": {
      "text/html": [
       "<div>\n",
       "<style scoped>\n",
       "    .dataframe tbody tr th:only-of-type {\n",
       "        vertical-align: middle;\n",
       "    }\n",
       "\n",
       "    .dataframe tbody tr th {\n",
       "        vertical-align: top;\n",
       "    }\n",
       "\n",
       "    .dataframe thead th {\n",
       "        text-align: right;\n",
       "    }\n",
       "</style>\n",
       "<table border=\"1\" class=\"dataframe\">\n",
       "  <thead>\n",
       "    <tr style=\"text-align: right;\">\n",
       "      <th></th>\n",
       "      <th>Station_ID</th>\n",
       "      <th>DATE</th>\n",
       "      <th>LAT</th>\n",
       "      <th>LON</th>\n",
       "      <th>Soil_Moisture</th>\n",
       "      <th>Temp_Avg</th>\n",
       "      <th>Temp_Max</th>\n",
       "      <th>Temp_Min</th>\n",
       "      <th>Earth_Skin_Temp</th>\n",
       "      <th>Rel_Humidity</th>\n",
       "      <th>Root_Soil_Wetness</th>\n",
       "      <th>Precip_Corrected</th>\n",
       "    </tr>\n",
       "  </thead>\n",
       "  <tbody>\n",
       "    <tr>\n",
       "      <th>0</th>\n",
       "      <td>0</td>\n",
       "      <td>2023-03-01</td>\n",
       "      <td>4.75</td>\n",
       "      <td>-8.25</td>\n",
       "      <td>0.73</td>\n",
       "      <td>26.97</td>\n",
       "      <td>28.95</td>\n",
       "      <td>25.33</td>\n",
       "      <td>27.32</td>\n",
       "      <td>83.49</td>\n",
       "      <td>0.74</td>\n",
       "      <td>0.98</td>\n",
       "    </tr>\n",
       "    <tr>\n",
       "      <th>1</th>\n",
       "      <td>1</td>\n",
       "      <td>2023-03-01</td>\n",
       "      <td>4.75</td>\n",
       "      <td>-7.75</td>\n",
       "      <td>0.69</td>\n",
       "      <td>26.72</td>\n",
       "      <td>29.31</td>\n",
       "      <td>24.56</td>\n",
       "      <td>26.82</td>\n",
       "      <td>84.77</td>\n",
       "      <td>0.68</td>\n",
       "      <td>0.87</td>\n",
       "    </tr>\n",
       "    <tr>\n",
       "      <th>2</th>\n",
       "      <td>2</td>\n",
       "      <td>2023-03-01</td>\n",
       "      <td>4.75</td>\n",
       "      <td>-7.25</td>\n",
       "      <td>0.68</td>\n",
       "      <td>26.67</td>\n",
       "      <td>29.38</td>\n",
       "      <td>24.41</td>\n",
       "      <td>26.69</td>\n",
       "      <td>85.31</td>\n",
       "      <td>0.66</td>\n",
       "      <td>0.94</td>\n",
       "    </tr>\n",
       "    <tr>\n",
       "      <th>3</th>\n",
       "      <td>3</td>\n",
       "      <td>2023-03-01</td>\n",
       "      <td>4.75</td>\n",
       "      <td>-6.75</td>\n",
       "      <td>0.70</td>\n",
       "      <td>26.88</td>\n",
       "      <td>29.09</td>\n",
       "      <td>24.94</td>\n",
       "      <td>26.96</td>\n",
       "      <td>84.96</td>\n",
       "      <td>0.67</td>\n",
       "      <td>1.29</td>\n",
       "    </tr>\n",
       "    <tr>\n",
       "      <th>4</th>\n",
       "      <td>4</td>\n",
       "      <td>2023-03-01</td>\n",
       "      <td>4.75</td>\n",
       "      <td>-6.25</td>\n",
       "      <td>0.64</td>\n",
       "      <td>27.43</td>\n",
       "      <td>28.94</td>\n",
       "      <td>26.01</td>\n",
       "      <td>27.72</td>\n",
       "      <td>83.81</td>\n",
       "      <td>0.62</td>\n",
       "      <td>1.35</td>\n",
       "    </tr>\n",
       "  </tbody>\n",
       "</table>\n",
       "</div>"
      ],
      "text/plain": [
       "   Station_ID        DATE   LAT   LON  Soil_Moisture  Temp_Avg  Temp_Max  \\\n",
       "0           0  2023-03-01  4.75 -8.25           0.73     26.97     28.95   \n",
       "1           1  2023-03-01  4.75 -7.75           0.69     26.72     29.31   \n",
       "2           2  2023-03-01  4.75 -7.25           0.68     26.67     29.38   \n",
       "3           3  2023-03-01  4.75 -6.75           0.70     26.88     29.09   \n",
       "4           4  2023-03-01  4.75 -6.25           0.64     27.43     28.94   \n",
       "\n",
       "   Temp_Min  Earth_Skin_Temp  Rel_Humidity  Root_Soil_Wetness  \\\n",
       "0     25.33            27.32         83.49               0.74   \n",
       "1     24.56            26.82         84.77               0.68   \n",
       "2     24.41            26.69         85.31               0.66   \n",
       "3     24.94            26.96         84.96               0.67   \n",
       "4     26.01            27.72         83.81               0.62   \n",
       "\n",
       "   Precip_Corrected  \n",
       "0              0.98  \n",
       "1              0.87  \n",
       "2              0.94  \n",
       "3              1.29  \n",
       "4              1.35  "
      ]
     },
     "execution_count": 3,
     "metadata": {},
     "output_type": "execute_result"
    }
   ],
   "source": [
    "df = pd.read_csv('Clean_NASA_Agroclimatological_Data.csv')\n",
    "df.head()"
   ]
  },
  {
   "cell_type": "markdown",
   "id": "583c8e9c-7903-4216-b2d0-fedfa40cbb86",
   "metadata": {},
   "source": [
    "### Slicing & Exporting df by Station ID"
   ]
  },
  {
   "cell_type": "code",
   "execution_count": 5,
   "id": "e6825ddc-81f9-4354-86f0-865df66901d6",
   "metadata": {},
   "outputs": [
    {
     "name": "stdout",
     "output_type": "stream",
     "text": [
      "Total CSV files created: 90\n"
     ]
    }
   ],
   "source": [
    "# Initialize a counter for the number of CSV files created\n",
    "csv_count = 0\n",
    "\n",
    "# Assuming `df` is your DataFrame with a column named 'Station_ID'\n",
    "for station_id, group in df.groupby('Station_ID'):\n",
    "    # Define the filename based on the Station_ID\n",
    "    filename = f'Station_{station_id}.csv'\n",
    "    \n",
    "    # Save the group as a CSV file\n",
    "    group.to_csv(filename, index=False)\n",
    "    \n",
    "    # Increment the counter\n",
    "    csv_count += 1\n",
    "\n",
    "# Print the total number of CSV files created\n",
    "print(f\"Total CSV files created: {csv_count}\")"
   ]
  },
  {
   "cell_type": "markdown",
   "id": "fe659645-9155-417b-a818-1259c0c75b51",
   "metadata": {},
   "source": [
    "### Verify Station_ID CSVs' Shape"
   ]
  },
  {
   "cell_type": "code",
   "execution_count": 10,
   "id": "8e9ce6a6-0e0b-4235-9b64-dae66ac320fe",
   "metadata": {},
   "outputs": [
    {
     "name": "stdout",
     "output_type": "stream",
     "text": [
      "Total CSV files created: 90\n",
      "All CSV files have the same shape.\n"
     ]
    }
   ],
   "source": [
    "# Initialize a counter for the number of CSV files created\n",
    "csv_count = 0\n",
    "mismatch_count = 0\n",
    "\n",
    "# Assuming `df` is your DataFrame with a column named 'Station_ID'\n",
    "for station_id, group in df.groupby('Station_ID'):\n",
    "    # Define the filename based on the Station_ID\n",
    "    filename = f'Station_{station_id}.csv'\n",
    "    \n",
    "    # Save the group as a CSV file\n",
    "    group.to_csv(filename, index=False)\n",
    "    \n",
    "    # Increment the counter\n",
    "    csv_count += 1\n",
    "    \n",
    "    # Read back the CSV file to verify its shape\n",
    "    saved_df = pd.read_csv(filename)\n",
    "    \n",
    "    # Check if the shape matches\n",
    "    if saved_df.shape != group.shape:\n",
    "        print(f\"Shape mismatch for {filename}: Original {group.shape}, Saved {saved_df.shape}\")\n",
    "        mismatch_count += 1\n",
    "\n",
    "# Print the total number of CSV files created and any mismatches found\n",
    "print(f\"Total CSV files created: {csv_count}\")\n",
    "if mismatch_count == 0:\n",
    "    print(\"All CSV files have the same shape.\")\n",
    "else:\n",
    "    print(f\"{mismatch_count} CSV files have shape mismatches.\")"
   ]
  }
 ],
 "metadata": {
  "kernelspec": {
   "display_name": "Python 3 (ipykernel)",
   "language": "python",
   "name": "python3"
  },
  "language_info": {
   "codemirror_mode": {
    "name": "ipython",
    "version": 3
   },
   "file_extension": ".py",
   "mimetype": "text/x-python",
   "name": "python",
   "nbconvert_exporter": "python",
   "pygments_lexer": "ipython3",
   "version": "3.11.9"
  }
 },
 "nbformat": 4,
 "nbformat_minor": 5
}
