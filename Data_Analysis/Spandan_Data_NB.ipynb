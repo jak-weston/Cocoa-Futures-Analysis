{
 "cells": [
  {
   "cell_type": "markdown",
   "id": "6b96f127-b9c9-4c26-a3a7-4fef978a26cc",
   "metadata": {},
   "source": [
    "# Spandan's Data Analysis NB Draft"
   ]
  }
 ],
 "metadata": {
  "kernelspec": {
   "display_name": "Python 3 (ipykernel)",
   "language": "python",
   "name": "python3"
  },
  "language_info": {
   "codemirror_mode": {
    "name": "ipython",
    "version": 3
   },
   "file_extension": ".py",
   "mimetype": "text/x-python",
   "name": "python",
   "nbconvert_exporter": "python",
   "pygments_lexer": "ipython3",
   "version": "3.11.9"
  }
 },
 "nbformat": 4,
 "nbformat_minor": 5
}
