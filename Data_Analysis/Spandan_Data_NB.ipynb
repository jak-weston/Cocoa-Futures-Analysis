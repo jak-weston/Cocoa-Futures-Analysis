{
 "cells": [
  {
   "cell_type": "markdown",
   "id": "6b96f127-b9c9-4c26-a3a7-4fef978a26cc",
   "metadata": {},
   "source": [
    "# Spandan's Data Analysis NB"
   ]
  },
  {
   "cell_type": "markdown",
   "id": "eb7f590f-b08f-4acd-9b8d-a04bd25e9ff1",
   "metadata": {},
   "source": [
    "To achieve the objective of trading cocoa using satellite-derived agroclimatological data, the process must be systematically divided into the following sections:\n",
    "1. Predicting Cocoa Yield Using Agroclimatological Data\n",
    "2. Predicting Cocoa Prices Based on Predicted Yield\n",
    "3. Trading Cocoa Futures Based on Predicting Cocoa Prices"
   ]
  },
  {
   "cell_type": "markdown",
   "id": "75d642a6-0059-4e55-9a9b-a75f413a2957",
   "metadata": {},
   "source": [
    "## Predicting Cocoa Yield Using Agroclimatological Data"
   ]
  },
  {
   "cell_type": "markdown",
   "id": "16b555df-79e1-4436-a961-aeeebc29fc0d",
   "metadata": {},
   "source": [
    "This section will use agroclimatological data from NASA Power DAV Tool and attempt to predict Cocoa yeild using a neural network. The NASA agroclimatological data will be partitioned by harvest cycles of cocoa."
   ]
  },
  {
   "cell_type": "markdown",
   "id": "8a6f6451-5177-4031-8bda-a71e907401f7",
   "metadata": {},
   "source": [
    "### Agroclimatological Data Proccessing"
   ]
  },
  {
   "cell_type": "markdown",
   "id": "4483274d-63bb-4ac4-9ff0-6651f7355962",
   "metadata": {},
   "source": [
    "#### Import Required Packages"
   ]
  },
  {
   "cell_type": "code",
   "execution_count": 12,
   "id": "0f3102c5-5785-4b51-b79e-552c56bab1f0",
   "metadata": {},
   "outputs": [],
   "source": [
    "import pandas as pd\n",
    "import numpy as np\n",
    "import os\n",
    "import matplotlib.pyplot as plt\n",
    "import seaborn as sns"
   ]
  },
  {
   "cell_type": "code",
   "execution_count": 14,
   "id": "31c367d8-8c38-47aa-93fc-fc65a4f76bee",
   "metadata": {},
   "outputs": [
    {
     "name": "stdout",
     "output_type": "stream",
     "text": [
      "(46848, 12)\n"
     ]
    },
    {
     "data": {
      "text/html": [
       "<div>\n",
       "<style scoped>\n",
       "    .dataframe tbody tr th:only-of-type {\n",
       "        vertical-align: middle;\n",
       "    }\n",
       "\n",
       "    .dataframe tbody tr th {\n",
       "        vertical-align: top;\n",
       "    }\n",
       "\n",
       "    .dataframe thead th {\n",
       "        text-align: right;\n",
       "    }\n",
       "</style>\n",
       "<table border=\"1\" class=\"dataframe\">\n",
       "  <thead>\n",
       "    <tr style=\"text-align: right;\">\n",
       "      <th></th>\n",
       "      <th>LAT</th>\n",
       "      <th>LON</th>\n",
       "      <th>YEAR</th>\n",
       "      <th>DOY</th>\n",
       "      <th>GWETPROF</th>\n",
       "      <th>T2M</th>\n",
       "      <th>T2M_MAX</th>\n",
       "      <th>T2M_MIN</th>\n",
       "      <th>TS</th>\n",
       "      <th>RH2M</th>\n",
       "      <th>GWETROOT</th>\n",
       "      <th>PRECTOTCORR</th>\n",
       "    </tr>\n",
       "  </thead>\n",
       "  <tbody>\n",
       "    <tr>\n",
       "      <th>0</th>\n",
       "      <td>4.75</td>\n",
       "      <td>-8.25</td>\n",
       "      <td>2023</td>\n",
       "      <td>60</td>\n",
       "      <td>0.73</td>\n",
       "      <td>26.97</td>\n",
       "      <td>28.95</td>\n",
       "      <td>25.33</td>\n",
       "      <td>27.32</td>\n",
       "      <td>83.49</td>\n",
       "      <td>0.74</td>\n",
       "      <td>0.98</td>\n",
       "    </tr>\n",
       "    <tr>\n",
       "      <th>1</th>\n",
       "      <td>4.75</td>\n",
       "      <td>-7.75</td>\n",
       "      <td>2023</td>\n",
       "      <td>60</td>\n",
       "      <td>0.69</td>\n",
       "      <td>26.72</td>\n",
       "      <td>29.31</td>\n",
       "      <td>24.56</td>\n",
       "      <td>26.82</td>\n",
       "      <td>84.77</td>\n",
       "      <td>0.68</td>\n",
       "      <td>0.87</td>\n",
       "    </tr>\n",
       "    <tr>\n",
       "      <th>2</th>\n",
       "      <td>4.75</td>\n",
       "      <td>-7.25</td>\n",
       "      <td>2023</td>\n",
       "      <td>60</td>\n",
       "      <td>0.68</td>\n",
       "      <td>26.67</td>\n",
       "      <td>29.38</td>\n",
       "      <td>24.41</td>\n",
       "      <td>26.69</td>\n",
       "      <td>85.31</td>\n",
       "      <td>0.66</td>\n",
       "      <td>0.94</td>\n",
       "    </tr>\n",
       "    <tr>\n",
       "      <th>3</th>\n",
       "      <td>4.75</td>\n",
       "      <td>-6.75</td>\n",
       "      <td>2023</td>\n",
       "      <td>60</td>\n",
       "      <td>0.70</td>\n",
       "      <td>26.88</td>\n",
       "      <td>29.09</td>\n",
       "      <td>24.94</td>\n",
       "      <td>26.96</td>\n",
       "      <td>84.96</td>\n",
       "      <td>0.67</td>\n",
       "      <td>1.29</td>\n",
       "    </tr>\n",
       "    <tr>\n",
       "      <th>4</th>\n",
       "      <td>4.75</td>\n",
       "      <td>-6.25</td>\n",
       "      <td>2023</td>\n",
       "      <td>60</td>\n",
       "      <td>0.64</td>\n",
       "      <td>27.43</td>\n",
       "      <td>28.94</td>\n",
       "      <td>26.01</td>\n",
       "      <td>27.72</td>\n",
       "      <td>83.81</td>\n",
       "      <td>0.62</td>\n",
       "      <td>1.35</td>\n",
       "    </tr>\n",
       "  </tbody>\n",
       "</table>\n",
       "</div>"
      ],
      "text/plain": [
       "    LAT   LON  YEAR  DOY  GWETPROF    T2M  T2M_MAX  T2M_MIN     TS   RH2M  \\\n",
       "0  4.75 -8.25  2023   60      0.73  26.97    28.95    25.33  27.32  83.49   \n",
       "1  4.75 -7.75  2023   60      0.69  26.72    29.31    24.56  26.82  84.77   \n",
       "2  4.75 -7.25  2023   60      0.68  26.67    29.38    24.41  26.69  85.31   \n",
       "3  4.75 -6.75  2023   60      0.70  26.88    29.09    24.94  26.96  84.96   \n",
       "4  4.75 -6.25  2023   60      0.64  27.43    28.94    26.01  27.72  83.81   \n",
       "\n",
       "   GWETROOT  PRECTOTCORR  \n",
       "0      0.74         0.98  \n",
       "1      0.68         0.87  \n",
       "2      0.66         0.94  \n",
       "3      0.67         1.29  \n",
       "4      0.62         1.35  "
      ]
     },
     "execution_count": 14,
     "metadata": {},
     "output_type": "execute_result"
    }
   ],
   "source": [
    "df = pd.read_csv('../Raw_DB/NASA_Agroclimatological_Data.csv', on_bad_lines='skip')\n",
    "print(df.shape)\n",
    "df.head()"
   ]
  },
  {
   "cell_type": "markdown",
   "id": "ee068f3a-ed75-40c2-b036-5cc8ff72d556",
   "metadata": {},
   "source": [
    "#### Data Cleaning & Wrangling"
   ]
  },
  {
   "cell_type": "code",
   "execution_count": 15,
   "id": "824ef0b0-b0c6-4dec-a300-c0ff0fcbf5f5",
   "metadata": {},
   "outputs": [
    {
     "name": "stdout",
     "output_type": "stream",
     "text": [
      "(43920, 12)\n"
     ]
    },
    {
     "data": {
      "text/html": [
       "<div>\n",
       "<style scoped>\n",
       "    .dataframe tbody tr th:only-of-type {\n",
       "        vertical-align: middle;\n",
       "    }\n",
       "\n",
       "    .dataframe tbody tr th {\n",
       "        vertical-align: top;\n",
       "    }\n",
       "\n",
       "    .dataframe thead th {\n",
       "        text-align: right;\n",
       "    }\n",
       "</style>\n",
       "<table border=\"1\" class=\"dataframe\">\n",
       "  <thead>\n",
       "    <tr style=\"text-align: right;\">\n",
       "      <th></th>\n",
       "      <th>Station_ID</th>\n",
       "      <th>DATE</th>\n",
       "      <th>LAT</th>\n",
       "      <th>LON</th>\n",
       "      <th>Soil_Moisture</th>\n",
       "      <th>Temp_Avg</th>\n",
       "      <th>Temp_Max</th>\n",
       "      <th>Temp_Min</th>\n",
       "      <th>Earth_Skin_Temp</th>\n",
       "      <th>Rel_Humidity</th>\n",
       "      <th>Root_Soil_Wetness</th>\n",
       "      <th>Precip_Corrected</th>\n",
       "    </tr>\n",
       "  </thead>\n",
       "  <tbody>\n",
       "    <tr>\n",
       "      <th>0</th>\n",
       "      <td>0</td>\n",
       "      <td>2023-03-01</td>\n",
       "      <td>4.75</td>\n",
       "      <td>-8.25</td>\n",
       "      <td>0.73</td>\n",
       "      <td>26.97</td>\n",
       "      <td>28.95</td>\n",
       "      <td>25.33</td>\n",
       "      <td>27.32</td>\n",
       "      <td>83.49</td>\n",
       "      <td>0.74</td>\n",
       "      <td>0.98</td>\n",
       "    </tr>\n",
       "    <tr>\n",
       "      <th>1</th>\n",
       "      <td>1</td>\n",
       "      <td>2023-03-01</td>\n",
       "      <td>4.75</td>\n",
       "      <td>-7.75</td>\n",
       "      <td>0.69</td>\n",
       "      <td>26.72</td>\n",
       "      <td>29.31</td>\n",
       "      <td>24.56</td>\n",
       "      <td>26.82</td>\n",
       "      <td>84.77</td>\n",
       "      <td>0.68</td>\n",
       "      <td>0.87</td>\n",
       "    </tr>\n",
       "    <tr>\n",
       "      <th>2</th>\n",
       "      <td>2</td>\n",
       "      <td>2023-03-01</td>\n",
       "      <td>4.75</td>\n",
       "      <td>-7.25</td>\n",
       "      <td>0.68</td>\n",
       "      <td>26.67</td>\n",
       "      <td>29.38</td>\n",
       "      <td>24.41</td>\n",
       "      <td>26.69</td>\n",
       "      <td>85.31</td>\n",
       "      <td>0.66</td>\n",
       "      <td>0.94</td>\n",
       "    </tr>\n",
       "    <tr>\n",
       "      <th>3</th>\n",
       "      <td>3</td>\n",
       "      <td>2023-03-01</td>\n",
       "      <td>4.75</td>\n",
       "      <td>-6.75</td>\n",
       "      <td>0.70</td>\n",
       "      <td>26.88</td>\n",
       "      <td>29.09</td>\n",
       "      <td>24.94</td>\n",
       "      <td>26.96</td>\n",
       "      <td>84.96</td>\n",
       "      <td>0.67</td>\n",
       "      <td>1.29</td>\n",
       "    </tr>\n",
       "    <tr>\n",
       "      <th>4</th>\n",
       "      <td>4</td>\n",
       "      <td>2023-03-01</td>\n",
       "      <td>4.75</td>\n",
       "      <td>-6.25</td>\n",
       "      <td>0.64</td>\n",
       "      <td>27.43</td>\n",
       "      <td>28.94</td>\n",
       "      <td>26.01</td>\n",
       "      <td>27.72</td>\n",
       "      <td>83.81</td>\n",
       "      <td>0.62</td>\n",
       "      <td>1.35</td>\n",
       "    </tr>\n",
       "  </tbody>\n",
       "</table>\n",
       "</div>"
      ],
      "text/plain": [
       "   Station_ID       DATE   LAT   LON  Soil_Moisture  Temp_Avg  Temp_Max  \\\n",
       "0           0 2023-03-01  4.75 -8.25           0.73     26.97     28.95   \n",
       "1           1 2023-03-01  4.75 -7.75           0.69     26.72     29.31   \n",
       "2           2 2023-03-01  4.75 -7.25           0.68     26.67     29.38   \n",
       "3           3 2023-03-01  4.75 -6.75           0.70     26.88     29.09   \n",
       "4           4 2023-03-01  4.75 -6.25           0.64     27.43     28.94   \n",
       "\n",
       "   Temp_Min  Earth_Skin_Temp  Rel_Humidity  Root_Soil_Wetness  \\\n",
       "0     25.33            27.32         83.49               0.74   \n",
       "1     24.56            26.82         84.77               0.68   \n",
       "2     24.41            26.69         85.31               0.66   \n",
       "3     24.94            26.96         84.96               0.67   \n",
       "4     26.01            27.72         83.81               0.62   \n",
       "\n",
       "   Precip_Corrected  \n",
       "0              0.98  \n",
       "1              0.87  \n",
       "2              0.94  \n",
       "3              1.29  \n",
       "4              1.35  "
      ]
     },
     "execution_count": 15,
     "metadata": {},
     "output_type": "execute_result"
    }
   ],
   "source": [
    "# Change YEAR & DOY into DateTime format\n",
    "df['DATE'] = pd.to_datetime(df['YEAR'].astype(str) + df['DOY'].astype(str), format='%Y%j')\n",
    "\n",
    "# Reorder the columns to make DATE the first column and drop YEAR and DOY\n",
    "df = df[['DATE'] + [col for col in df.columns if col not in ['YEAR', 'DOY', 'DATE']]]\n",
    "\n",
    "# Rename cols\n",
    "df.rename(columns={\n",
    "    'TS': 'Earth_Skin_Temp',\n",
    "    'RH2M': 'Rel_Humidity',\n",
    "    'GWETROOT': 'Root_Soil_Wetness',\n",
    "    'PRECTOTCORR': 'Precip_Corrected',\n",
    "    'T2M_MIN': 'Temp_Min',\n",
    "    'T2M_MAX': 'Temp_Max',\n",
    "    'T2M': 'Temp_Avg',\n",
    "    'GWETPROF': 'Soil_Moisture'\n",
    "}, inplace=True)\n",
    "\n",
    "# Drop rows where any cell has a value of -999\n",
    "# -999 indicates NULL for that cell, as per NASA Power DAV Tool\n",
    "df = df[(df != -999).all(axis=1)]\n",
    "\n",
    "# Create a new df where we assign stations to each LAT, LON\n",
    "station_df = df.copy()\n",
    "station_df['Station_ID'] = station_df.groupby(['LAT', 'LON']).ngroup()\n",
    "column_order = ['Station_ID'] + [col for col in station_df.columns if col != 'Station_ID']\n",
    "station_df = station_df[column_order]\n",
    "\n",
    "print(station_df.shape)\n",
    "station_df.head()"
   ]
  },
  {
   "cell_type": "markdown",
   "id": "2e8d4d4e-0971-4f2c-b7f2-464c20ffd460",
   "metadata": {},
   "source": [
    "#### Export Cleaned DF"
   ]
  },
  {
   "cell_type": "code",
   "execution_count": 16,
   "id": "03ac28c5-1f01-4e0a-aa1c-b7babae97c16",
   "metadata": {},
   "outputs": [
    {
     "name": "stdout",
     "output_type": "stream",
     "text": [
      "DataFrame saved to ../NASA_DB/Clean_NASA_Agroclimatological_Data.csv\n"
     ]
    }
   ],
   "source": [
    "# Define the directory and filename\n",
    "directory = '../NASA_DB'  # This goes one level up from the current directory\n",
    "filename = 'Clean_NASA_Agroclimatological_Data.csv'\n",
    "\n",
    "# Create the directory if it doesn't exist\n",
    "if not os.path.exists(directory):\n",
    "    os.makedirs(directory)\n",
    "\n",
    "# Save the DataFrame to the CSV file in the specified directory\n",
    "file_path = os.path.join(directory, filename)\n",
    "station_df.to_csv(file_path, index=False)\n",
    "\n",
    "print(f\"DataFrame saved to {file_path}\")"
   ]
  },
  {
   "cell_type": "markdown",
   "id": "fd2d496d-9479-4008-8922-d3d98e1cab14",
   "metadata": {},
   "source": [
    "### Cocoa Yeild Data Proccessing"
   ]
  },
  {
   "cell_type": "markdown",
   "id": "be0991fb-c697-4217-813b-74d9d76c9746",
   "metadata": {},
   "source": [
    "For now unable to find monthly Cocoa yeild data so temporarily asked chat gpt to generate a df with monthly Cocoa yeild data of Ivory Coast. "
   ]
  }
 ],
 "metadata": {
  "kernelspec": {
   "display_name": "Python 3 (ipykernel)",
   "language": "python",
   "name": "python3"
  },
  "language_info": {
   "codemirror_mode": {
    "name": "ipython",
    "version": 3
   },
   "file_extension": ".py",
   "mimetype": "text/x-python",
   "name": "python",
   "nbconvert_exporter": "python",
   "pygments_lexer": "ipython3",
   "version": "3.11.9"
  }
 },
 "nbformat": 4,
 "nbformat_minor": 5
}
